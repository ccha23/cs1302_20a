{
 "cells": [
  {
   "cell_type": "markdown",
   "metadata": {
    "slideshow": {
     "slide_type": "slide"
    }
   },
   "source": [
    "# Combinatorics\n",
    "**CS1302 Introduction to Computer Programming**\n",
    "___"
   ]
  },
  {
   "cell_type": "markdown",
   "metadata": {
    "slideshow": {
     "slide_type": "slide"
    }
   },
   "source": [
    "## Permutation using Recursion"
   ]
  },
  {
   "cell_type": "markdown",
   "metadata": {
    "slideshow": {
     "slide_type": "subslide"
    }
   },
   "source": [
    "A [$k$-permutation of $n$](https://en.wikipedia.org/wiki/Permutation#k-permutations_of_n) items $a_0,\\dots,a_{n-1}$ is an ordered tuple \n",
    "$$(a_{i_0},\\dots,a_{i_{k-1}})$$ \n",
    "of $k$ out of the $n$ objects, where $0\\leq i_0,\\dots,i_{k-1}<n$ are distinct indices. An $n$-permutation of $n$ objects is simply called a permutation of $n$ objects."
   ]
  },
  {
   "cell_type": "markdown",
   "metadata": {
    "slideshow": {
     "slide_type": "fragment"
    }
   },
   "source": [
    "For examples:\n",
    "- The list of ($3$-)permutations of `1,2,3` is:"
   ]
  },
  {
   "cell_type": "code",
   "execution_count": null,
   "metadata": {
    "ExecuteTime": {
     "end_time": "2020-10-25T04:00:16.054256Z",
     "start_time": "2020-10-25T04:00:16.045066Z"
    },
    "slideshow": {
     "slide_type": "-"
    }
   },
   "outputs": [],
   "source": [
    "[(1, 2, 3), (1, 3, 2), (2, 1, 3), (2, 3, 1), (3, 1, 2), (3, 2, 1)]"
   ]
  },
  {
   "cell_type": "markdown",
   "metadata": {
    "slideshow": {
     "slide_type": "fragment"
    }
   },
   "source": [
    "- The list of $2$-permutations of `1,2,3` is:"
   ]
  },
  {
   "cell_type": "code",
   "execution_count": null,
   "metadata": {
    "ExecuteTime": {
     "end_time": "2020-10-25T04:00:16.163963Z",
     "start_time": "2020-10-25T04:00:16.156371Z"
    },
    "slideshow": {
     "slide_type": "-"
    }
   },
   "outputs": [],
   "source": [
    "[(1, 2), (1, 3), (2, 1), (2, 3), (3, 1), (3, 2)]"
   ]
  },
  {
   "cell_type": "markdown",
   "metadata": {
    "slideshow": {
     "slide_type": "fragment"
    }
   },
   "source": [
    "In the above, we used\n",
    "- a `tuple` delimited by `()` such as `(1,2,3)` to store items of a permutation, and \n",
    "- a `list` delimited by `[]` such as `[(1, 2, 3), (1, 3, 2), (2, 1, 3), (2, 3, 1), (3, 1, 2), (3, 2, 1)]` to store all the permutations."
   ]
  },
  {
   "cell_type": "markdown",
   "metadata": {
    "slideshow": {
     "slide_type": "subslide"
    }
   },
   "source": [
    "Generating permutations is a fundamental problem in computing and combinatorics.  \n",
    "A simple way to generate permutations is by recursion. (There are also [other algorithms](https://www.topcoder.com/generating-permutations/).)"
   ]
  },
  {
   "cell_type": "markdown",
   "metadata": {
    "slideshow": {
     "slide_type": "fragment"
    }
   },
   "source": [
    "**Recurrence relation (Line 10):**  \n",
    "- Removing the first element of a $k$-permutation of $n$ objects gives a different $(k-1)$-permutation of the remaining $n-1$ objects.\n",
    "\n",
    "$$ (a_{i_0}, \\underbrace{a_{i_1},\\dots,a_{i_{k-1}}}_{\\text{($k-1$)-permutation of $a_{i_1},\\dots,a_{i_{k-1}}$.}\\kern-5em} ) $$\n",
    "- Reversing the above removal process gives a way of constructing a $k$-permutation from a $(k-1)$-permutation.  \n",
    "  E.g., the permutations of $1,2,3$ can be constructed as follows:\n",
    "\n",
    "$$[\\overbrace{({\\color{red} 1}, {\\color{blue}{2, 3}}), ({\\color{red} 1}, {\\color{blue}{3, 2}})}^{\\text{prepend 1 to permutations of $2,3$.} }, \\overbrace{({\\color{red} 2}, {\\color{blue}{1, 3}}), ({\\color{red} 2}, {\\color{blue}{3, 1}})}^{\\text{prepend 2 to permutations of $1,3$.} }, \\overbrace{({\\color{red} 3}, {\\color{blue}{1, 2}}), ({\\color{red} 3}, {\\color{blue}{2, 1}})}^{\\text{prepend 3 to permutations of $1,2$.} }]$$"
   ]
  },
  {
   "cell_type": "markdown",
   "metadata": {
    "slideshow": {
     "slide_type": "fragment"
    }
   },
   "source": [
    "The following is an implementation of the recursion `permutation(*a,k=None)` that\n",
    "- takes in a variable number $n$ of objects as positional arguments (in `a`),\n",
    "- takes in an integer $k$ using a keyword argument (`k`, with the default `k=None` for $k=n$), and\n",
    "- returns the list of all $k$-permutations represented as ordered tuples of the $n$ objects."
   ]
  },
  {
   "cell_type": "code",
   "execution_count": 14,
   "metadata": {
    "ExecuteTime": {
     "end_time": "2020-11-03T04:32:09.564883Z",
     "start_time": "2020-11-03T04:32:09.552958Z"
    },
    "slideshow": {
     "slide_type": "-"
    }
   },
   "outputs": [
    {
     "name": "stdout",
     "output_type": "stream",
     "text": [
      "[(1, 2, 3), (1, 3, 2), (2, 1, 3), (2, 3, 1), (3, 1, 2), (3, 2, 1)]\n",
      "[(1, 2), (1, 3), (2, 1), (2, 3), (3, 1), (3, 2)]\n"
     ]
    }
   ],
   "source": [
    "def permutation(*a, k=None):\n",
    "    '''Returns the list of (k-)permutations of the position arguments.'''\n",
    "    n = len(a)\n",
    "    output = []\n",
    "    if k is None:\n",
    "        k = n\n",
    "    if 0 < k <= n:\n",
    "        for i in range(n):\n",
    "            output.extend([(a[i], ) + p\n",
    "                           for p in permutation(*a[:i], *a[i + 1:], k=k - 1)])\n",
    "    elif k == 0:\n",
    "        return [()]\n",
    "    return output\n",
    "\n",
    "print(permutation(1, 2, 3))\n",
    "print(permutation(1, 2, 3, k=2))"
   ]
  },
  {
   "cell_type": "markdown",
   "metadata": {
    "slideshow": {
     "slide_type": "fragment"
    }
   },
   "source": [
    "The recurrence is implemented by the for loop:\n",
    "```Python\n",
    "        ...\n",
    "        for i in range(n):\n",
    "            output.extend([(a[i], ) + p\n",
    "                           for p in permutation(*a[:i], *a[i + 1:], k=k - 1)])\n",
    "        ...\n",
    "```"
   ]
  },
  {
   "cell_type": "markdown",
   "metadata": {
    "slideshow": {
     "slide_type": "fragment"
    }
   },
   "source": [
    "In the above code, `(a[i], ) + p` creates a $k$-permutation of the items in `a` by concatenating for each index `i`\n",
    "- a singleton tuple `(a[i], )` and \n",
    "- a $k-1$ permutation `p` of all elements but `a[i]`.\n",
    "\n",
    "(See the example in the recurrence relation described earlier.)"
   ]
  },
  {
   "cell_type": "markdown",
   "metadata": {
    "slideshow": {
     "slide_type": "fragment"
    }
   },
   "source": [
    "Note that:\n",
    "- The comma in `(a[i], )` is not a typo. Without commas, `(...)` does not create a tuple. \n",
    "- `a[:i]` returns a tuple of `a[0]` up to and excluding `a[i]`. `*a[:i]` unpacks the tuple such that its items are separate arguments to `permutation`. \n",
    "- Similarly, `*a[i + 1:]` provides items as separate arguments starting from `a[i + 1]` until the last item in `a`.\n",
    "- `[... for ...]` generates a list of $k$-permutations, and `output.extend([...])` added the list to the end of the `output` list."
   ]
  },
  {
   "cell_type": "markdown",
   "metadata": {
    "slideshow": {
     "slide_type": "subslide"
    }
   },
   "source": [
    "**Exercise** One of the base cases of the recusion happens when $k=0$, in which case there is only one $k$-permutation, namely the empty tuple $()$, and so the function returns `[()]`. There is another base case of the recursion. Explain the condition of that base case and its return value."
   ]
  },
  {
   "cell_type": "markdown",
   "metadata": {
    "deletable": false,
    "nbgrader": {
     "cell_type": "markdown",
     "checksum": "6065a26e19375f235f176ebfe6fcddee",
     "grade": true,
     "grade_id": "base-case",
     "locked": false,
     "points": 1,
     "schema_version": 3,
     "solution": true,
     "task": false
    },
    "slideshow": {
     "slide_type": "-"
    }
   },
   "source": [
    "YOUR ANSWER HERE"
   ]
  },
  {
   "cell_type": "markdown",
   "metadata": {
    "slideshow": {
     "slide_type": "slide"
    }
   },
   "source": [
    "## Number of permutations"
   ]
  },
  {
   "cell_type": "markdown",
   "metadata": {
    "slideshow": {
     "slide_type": "fragment"
    }
   },
   "source": [
    "Computing permutations using recursion is slow. Why?  \n",
    "There are simply too many permutations even for a reasonably small $n$."
   ]
  },
  {
   "cell_type": "code",
   "execution_count": 11,
   "metadata": {
    "ExecuteTime": {
     "end_time": "2020-11-03T04:29:05.168002Z",
     "start_time": "2020-11-03T04:29:03.696274Z"
    },
    "slideshow": {
     "slide_type": "-"
    }
   },
   "outputs": [
    {
     "name": "stdout",
     "output_type": "stream",
     "text": [
      "# permutations: 362880\n"
     ]
    }
   ],
   "source": [
    "n = 9\n",
    "output = permutation(*range(1,n+1))\n",
    "print('# permutations:',len(output))"
   ]
  },
  {
   "cell_type": "markdown",
   "metadata": {
    "slideshow": {
     "slide_type": "subslide"
    }
   },
   "source": [
    "Surprisingly, the number $P_n$ of ($n-$)permutations of $n$ items can be calculated much faster without enumerating all the permutations. It satisfies the following recurrence:\n",
    "$$\n",
    "P_n = \\begin{cases}\n",
    "n P_{n-1} & n>0\\\\\n",
    "1 & n=0\\\\\n",
    "0 & \\text{otherwise.}\n",
    "\\end{cases}\n",
    "$$\n",
    "\n",
    "This quantity is fundamental in the field of [combinatorics](https://en.wikipedia.org/wiki/Combinatorics) with enormous applications."
   ]
  },
  {
   "cell_type": "markdown",
   "metadata": {
    "slideshow": {
     "slide_type": "fragment"
    }
   },
   "source": [
    "**Exercise** Implement the above recurrence equation as a recursion `num_permutation(n)` which\n",
    "- takes in an integer `n`, and\n",
    "- returns the number of permutations of `n` items.\n",
    "\n",
    "*Hint: Ensure all base cases are covered, and can run efficiently for large $n$.*"
   ]
  },
  {
   "cell_type": "code",
   "execution_count": null,
   "metadata": {
    "ExecuteTime": {
     "end_time": "2020-10-25T04:00:18.262037Z",
     "start_time": "2020-10-25T04:00:18.259061Z"
    },
    "deletable": false,
    "nbgrader": {
     "cell_type": "code",
     "checksum": "4573ab58a28a125941b002bd3420087c",
     "grade": false,
     "grade_id": "num_permutations",
     "locked": false,
     "schema_version": 3,
     "solution": true,
     "task": false
    },
    "slideshow": {
     "slide_type": "-"
    }
   },
   "outputs": [],
   "source": [
    "def num_permutation(n):\n",
    "    # YOUR CODE HERE\n",
    "    raise NotImplementedError()"
   ]
  },
  {
   "cell_type": "code",
   "execution_count": null,
   "metadata": {
    "ExecuteTime": {
     "end_time": "2020-10-25T04:00:18.273268Z",
     "start_time": "2020-10-25T04:00:18.263661Z"
    },
    "code_folding": [],
    "deletable": false,
    "editable": false,
    "nbgrader": {
     "cell_type": "code",
     "checksum": "c90e8ca4a1e355604aa2ba8450dbb9f8",
     "grade": true,
     "grade_id": "test-num_permutations",
     "locked": true,
     "points": 1,
     "schema_version": 3,
     "solution": false,
     "task": false
    },
    "slideshow": {
     "slide_type": "-"
    }
   },
   "outputs": [],
   "source": [
    "# tests\n",
    "assert num_permutation(10) == 3628800\n",
    "assert num_permutation(0) == 1\n",
    "assert num_permutation(-1) == 0"
   ]
  },
  {
   "cell_type": "markdown",
   "metadata": {
    "slideshow": {
     "slide_type": "subslide"
    }
   },
   "source": [
    "**Exercise** Extend the function to `num_permutation(n,k=None)` which\n",
    "- takes in an additional optional keyword argument `k`, and\n",
    "- returns the INTEGER number of `k`-permutations of `n` items.\n",
    "\n",
    "The number is given by the formula\n",
    "$$P_{n,k} = \\begin{cases}\n",
    "\\frac{P_n}{P_{n-k}} & 0\\leq k \\leq n\\\\\n",
    "0 & \\text{otherwise.}\n",
    "\\end{cases}$$"
   ]
  },
  {
   "cell_type": "code",
   "execution_count": null,
   "metadata": {
    "ExecuteTime": {
     "end_time": "2020-10-25T04:00:18.283979Z",
     "start_time": "2020-10-25T04:00:18.274591Z"
    },
    "deletable": false,
    "nbgrader": {
     "cell_type": "code",
     "checksum": "2d7e2a37a6b0275c2274acec3c404a02",
     "grade": false,
     "grade_id": "num_permutation_k",
     "locked": false,
     "schema_version": 3,
     "solution": true,
     "task": false
    }
   },
   "outputs": [],
   "source": [
    "def num_permutation(n,k=None):\n",
    "    # YOUR CODE HERE\n",
    "    raise NotImplementedError()"
   ]
  },
  {
   "cell_type": "code",
   "execution_count": null,
   "metadata": {
    "ExecuteTime": {
     "end_time": "2020-10-25T04:00:18.295745Z",
     "start_time": "2020-10-25T04:00:18.285458Z"
    },
    "code_folding": [
     0
    ],
    "deletable": false,
    "editable": false,
    "nbgrader": {
     "cell_type": "code",
     "checksum": "562dde90372dde2c282deb9f83a86c2d",
     "grade": true,
     "grade_id": "test-num_permutation_k",
     "locked": true,
     "points": 1,
     "schema_version": 3,
     "solution": false,
     "task": false
    }
   },
   "outputs": [],
   "source": [
    "# tests\n",
    "assert isinstance(num_permutation(0), int)\n",
    "assert num_permutation(3) == 6\n",
    "assert num_permutation(3,0) == 1\n",
    "assert num_permutation(3,2) == 6\n",
    "assert num_permutation(10,5) == 30240"
   ]
  },
  {
   "cell_type": "markdown",
   "metadata": {
    "slideshow": {
     "slide_type": "slide"
    }
   },
   "source": [
    "## Permutation using Iteration"
   ]
  },
  {
   "cell_type": "markdown",
   "metadata": {
    "slideshow": {
     "slide_type": "subslide"
    }
   },
   "source": [
    "The following function `permutation_sequence(*a)` returns a generator that generates the list of $k$-permutations one-by-one for $k$ from $0$ to `len(a)`."
   ]
  },
  {
   "cell_type": "code",
   "execution_count": 31,
   "metadata": {
    "ExecuteTime": {
     "end_time": "2020-11-03T07:01:13.904451Z",
     "start_time": "2020-11-03T07:01:13.856422Z"
    },
    "hide_input": false
   },
   "outputs": [],
   "source": [
    "# set up environment\n",
    "%reset -f\n",
    "import sys\n",
    "cs1302_site_packages = '/home/course/cs1302/site-packages'\n",
    "if cs1302_site_packages not in sys.path:\n",
    "    sys.path.append(cs1302_site_packages)\n",
    "%reload_ext mytutor"
   ]
  },
  {
   "cell_type": "code",
   "execution_count": 35,
   "metadata": {
    "ExecuteTime": {
     "end_time": "2020-11-03T07:19:22.100354Z",
     "start_time": "2020-11-03T07:19:22.094915Z"
    },
    "slideshow": {
     "slide_type": "-"
    }
   },
   "outputs": [
    {
     "data": {
      "text/html": [
       "\n",
       "        <iframe\n",
       "            width=\"400\"\n",
       "            height=\"400\"\n",
       "            src=\"https://e-quiz.cs.cityu.edu.hk/opt/cs1302visualize.html#mode=display&code=def%20permutation_sequence%28%2Aa%29%3A%0A%20%20%20%20%27%27%27Returns%20a%20generator%20for%20the%20k-permuations%20of%20the%20positional%20arguments%0A%20%20%20%20for%20k%20from%200%20to%20len%28a%29.%27%27%27%0A%20%20%20%20n%20%3D%20len%28a%29%0A%20%20%20%20output%2C%20idx_left%20%3D%20%5B%28%29%5D%2C%20%5Btuple%28range%28n%29%29%5D%0A%20%20%20%20for%20k%20in%20range%280%2C%20n%2B1%29%3A%0A%20%20%20%20%20%20%20%20yield%20output%0A%20%20%20%20%20%20%20%20next_output%2C%20next_idx_left%20%3D%20%5B%5D%2C%20%5B%5D%0A%20%20%20%20%20%20%20%20for%20m%20in%20range%28len%28idx_left%29%29%3A%0A%20%20%20%20%20%20%20%20%20%20%20%20for%20j%20in%20range%28len%28idx_left%5Bm%5D%29%29%3A%0A%20%20%20%20%20%20%20%20%20%20%20%20%20%20%20%20i%20%3D%20idx_left%5Bm%5D%5Bj%5D%0A%20%20%20%20%20%20%20%20%20%20%20%20%20%20%20%20next_output.append%28output%5Bm%5D%20%2B%20%28a%5Bi%5D%2C%20%29%29%0A%20%20%20%20%20%20%20%20%20%20%20%20%20%20%20%20next_idx_left.append%28idx_left%5Bm%5D%5B%3Aj%5D%20%2B%20idx_left%5Bm%5D%5Bj%20%2B%201%3A%5D%29%0A%20%20%20%20%20%20%20%20output%2C%20idx_left%20%3D%20next_output%2C%20next_idx_left%0A%0A%0Afor%20permutation_list%20in%20permutation_sequence%28%27a%27%2C%27b%27%2C%20%27c%27%29%3A%0A%20%20%20%20print%28permutation_list%29%0A\"\n",
       "            frameborder=\"0\"\n",
       "            allowfullscreen\n",
       "        ></iframe>\n",
       "        "
      ],
      "text/plain": [
       "<IPython.lib.display.IFrame at 0x7f796c79fe10>"
      ]
     },
     "metadata": {},
     "output_type": "display_data"
    }
   ],
   "source": [
    "%%mytutor -h 400 -w 400\n",
    "def permutation_sequence(*a):\n",
    "    '''Returns a generator for the k-permuations of the positional arguments\n",
    "    for k from 0 to len(a).'''\n",
    "    n = len(a)\n",
    "    output, idx_left = [()], [tuple(range(n))]\n",
    "    for k in range(0, n+1):\n",
    "        yield output\n",
    "        next_output, next_idx_left = [], []\n",
    "        for m in range(len(idx_left)):\n",
    "            for j in range(len(idx_left[m])):\n",
    "                i = idx_left[m][j]\n",
    "                next_output.append(output[m] + (a[i], ))\n",
    "                next_idx_left.append(idx_left[m][:j] + idx_left[m][j + 1:])\n",
    "        output, idx_left = next_output, next_idx_left\n",
    "\n",
    "\n",
    "for permutation_list in permutation_sequence('a','b', 'c'):\n",
    "    print(permutation_list)"
   ]
  },
  {
   "cell_type": "code",
   "execution_count": 1,
   "metadata": {
    "ExecuteTime": {
     "end_time": "2020-11-04T13:22:01.927903Z",
     "start_time": "2020-11-04T13:22:01.867395Z"
    }
   },
   "outputs": [
    {
     "name": "stdout",
     "output_type": "stream",
     "text": [
      "output: [()] idx_left: [(0, 1, 2)]\n",
      "a: ('a', 'b', 'c') k: 0\n",
      "permutation_list: [()]\n",
      "m: 0 len(idx_left): 1\n",
      "j: 0 len(idx_left[m]): 3 idx_left[m]: (0, 1, 2)\n",
      "i: 0\n",
      "output[m]: () (a[i], ): ('a',) next_output: [('a',)]\n",
      "idx_left[m][:j]: () idx_left[m][j + 1:]: (1, 2) next_idx_left: [(1, 2)]\n",
      "j: 1 len(idx_left[m]): 3 idx_left[m]: (0, 1, 2)\n",
      "i: 1\n",
      "output[m]: () (a[i], ): ('b',) next_output: [('a',), ('b',)]\n",
      "idx_left[m][:j]: (0,) idx_left[m][j + 1:]: (2,) next_idx_left: [(1, 2), (0, 2)]\n",
      "j: 2 len(idx_left[m]): 3 idx_left[m]: (0, 1, 2)\n",
      "i: 2\n",
      "output[m]: () (a[i], ): ('c',) next_output: [('a',), ('b',), ('c',)]\n",
      "idx_left[m][:j]: (0, 1) idx_left[m][j + 1:]: () next_idx_left: [(1, 2), (0, 2), (0, 1)]\n",
      "a: ('a', 'b', 'c') k: 1\n",
      "permutation_list: [('a',), ('b',), ('c',)]\n",
      "m: 0 len(idx_left): 3\n",
      "j: 0 len(idx_left[m]): 2 idx_left[m]: (1, 2)\n",
      "i: 1\n",
      "output[m]: ('a',) (a[i], ): ('b',) next_output: [('a', 'b')]\n",
      "idx_left[m][:j]: () idx_left[m][j + 1:]: (2,) next_idx_left: [(2,)]\n",
      "j: 1 len(idx_left[m]): 2 idx_left[m]: (1, 2)\n",
      "i: 2\n",
      "output[m]: ('a',) (a[i], ): ('c',) next_output: [('a', 'b'), ('a', 'c')]\n",
      "idx_left[m][:j]: (1,) idx_left[m][j + 1:]: () next_idx_left: [(2,), (1,)]\n",
      "m: 1 len(idx_left): 3\n",
      "j: 0 len(idx_left[m]): 2 idx_left[m]: (0, 2)\n",
      "i: 0\n",
      "output[m]: ('b',) (a[i], ): ('a',) next_output: [('a', 'b'), ('a', 'c'), ('b', 'a')]\n",
      "idx_left[m][:j]: () idx_left[m][j + 1:]: (2,) next_idx_left: [(2,), (1,), (2,)]\n",
      "j: 1 len(idx_left[m]): 2 idx_left[m]: (0, 2)\n",
      "i: 2\n",
      "output[m]: ('b',) (a[i], ): ('c',) next_output: [('a', 'b'), ('a', 'c'), ('b', 'a'), ('b', 'c')]\n",
      "idx_left[m][:j]: (0,) idx_left[m][j + 1:]: () next_idx_left: [(2,), (1,), (2,), (0,)]\n",
      "m: 2 len(idx_left): 3\n",
      "j: 0 len(idx_left[m]): 2 idx_left[m]: (0, 1)\n",
      "i: 0\n",
      "output[m]: ('c',) (a[i], ): ('a',) next_output: [('a', 'b'), ('a', 'c'), ('b', 'a'), ('b', 'c'), ('c', 'a')]\n",
      "idx_left[m][:j]: () idx_left[m][j + 1:]: (1,) next_idx_left: [(2,), (1,), (2,), (0,), (1,)]\n",
      "j: 1 len(idx_left[m]): 2 idx_left[m]: (0, 1)\n",
      "i: 1\n",
      "output[m]: ('c',) (a[i], ): ('b',) next_output: [('a', 'b'), ('a', 'c'), ('b', 'a'), ('b', 'c'), ('c', 'a'), ('c', 'b')]\n",
      "idx_left[m][:j]: (0,) idx_left[m][j + 1:]: () next_idx_left: [(2,), (1,), (2,), (0,), (1,), (0,)]\n",
      "a: ('a', 'b', 'c') k: 2\n",
      "permutation_list: [('a', 'b'), ('a', 'c'), ('b', 'a'), ('b', 'c'), ('c', 'a'), ('c', 'b')]\n",
      "m: 0 len(idx_left): 6\n",
      "j: 0 len(idx_left[m]): 1 idx_left[m]: (2,)\n",
      "i: 2\n",
      "output[m]: ('a', 'b') (a[i], ): ('c',) next_output: [('a', 'b', 'c')]\n",
      "idx_left[m][:j]: () idx_left[m][j + 1:]: () next_idx_left: [()]\n",
      "m: 1 len(idx_left): 6\n",
      "j: 0 len(idx_left[m]): 1 idx_left[m]: (1,)\n",
      "i: 1\n",
      "output[m]: ('a', 'c') (a[i], ): ('b',) next_output: [('a', 'b', 'c'), ('a', 'c', 'b')]\n",
      "idx_left[m][:j]: () idx_left[m][j + 1:]: () next_idx_left: [(), ()]\n",
      "m: 2 len(idx_left): 6\n",
      "j: 0 len(idx_left[m]): 1 idx_left[m]: (2,)\n",
      "i: 2\n",
      "output[m]: ('b', 'a') (a[i], ): ('c',) next_output: [('a', 'b', 'c'), ('a', 'c', 'b'), ('b', 'a', 'c')]\n",
      "idx_left[m][:j]: () idx_left[m][j + 1:]: () next_idx_left: [(), (), ()]\n",
      "m: 3 len(idx_left): 6\n",
      "j: 0 len(idx_left[m]): 1 idx_left[m]: (0,)\n",
      "i: 0\n",
      "output[m]: ('b', 'c') (a[i], ): ('a',) next_output: [('a', 'b', 'c'), ('a', 'c', 'b'), ('b', 'a', 'c'), ('b', 'c', 'a')]\n",
      "idx_left[m][:j]: () idx_left[m][j + 1:]: () next_idx_left: [(), (), (), ()]\n",
      "m: 4 len(idx_left): 6\n",
      "j: 0 len(idx_left[m]): 1 idx_left[m]: (1,)\n",
      "i: 1\n",
      "output[m]: ('c', 'a') (a[i], ): ('b',) next_output: [('a', 'b', 'c'), ('a', 'c', 'b'), ('b', 'a', 'c'), ('b', 'c', 'a'), ('c', 'a', 'b')]\n",
      "idx_left[m][:j]: () idx_left[m][j + 1:]: () next_idx_left: [(), (), (), (), ()]\n",
      "m: 5 len(idx_left): 6\n",
      "j: 0 len(idx_left[m]): 1 idx_left[m]: (0,)\n",
      "i: 0\n",
      "output[m]: ('c', 'b') (a[i], ): ('a',) next_output: [('a', 'b', 'c'), ('a', 'c', 'b'), ('b', 'a', 'c'), ('b', 'c', 'a'), ('c', 'a', 'b'), ('c', 'b', 'a')]\n",
      "idx_left[m][:j]: () idx_left[m][j + 1:]: () next_idx_left: [(), (), (), (), (), ()]\n",
      "a: ('a', 'b', 'c') k: 3\n",
      "permutation_list: [('a', 'b', 'c'), ('a', 'c', 'b'), ('b', 'a', 'c'), ('b', 'c', 'a'), ('c', 'a', 'b'), ('c', 'b', 'a')]\n",
      "m: 0 len(idx_left): 6\n",
      "m: 1 len(idx_left): 6\n",
      "m: 2 len(idx_left): 6\n",
      "m: 3 len(idx_left): 6\n",
      "m: 4 len(idx_left): 6\n",
      "m: 5 len(idx_left): 6\n"
     ]
    }
   ],
   "source": [
    "def permutation_sequence(*a):\n",
    "    '''Returns a generator for the k-permuations of the positional arguments\n",
    "    for k from 0 to len(a).'''\n",
    "    n = len(a)\n",
    "    output, idx_left = [()], [tuple(range(n))]\n",
    "    print('output:',output,'idx_left:',idx_left)\n",
    "    for k in range(0, n + 1):\n",
    "        print('a:',a,'k:',k)\n",
    "        yield output\n",
    "        next_output, next_idx_left = [], []\n",
    "        for m in range(len(idx_left)):\n",
    "            print('m:',m,'len(idx_left):',len(idx_left))\n",
    "            for j in range(len(idx_left[m])):\n",
    "                print('j:',j,'len(idx_left[m]):',len(idx_left[m]),'idx_left[m]:',idx_left[m])\n",
    "                i = idx_left[m][j]\n",
    "                print('i:',i)\n",
    "                next_output.append(output[m] + (a[i], ))\n",
    "                print('output[m]:',output[m],'(a[i], ):',(a[i], ),'next_output:',next_output)\n",
    "                next_idx_left.append(idx_left[m][:j] + idx_left[m][j + 1:])\n",
    "                print('idx_left[m][:j]:',idx_left[m][:j],'idx_left[m][j + 1:]:',idx_left[m][j + 1:],'next_idx_left:',next_idx_left)\n",
    "                \n",
    "        output, idx_left = next_output, next_idx_left\n",
    "\n",
    "\n",
    "for permutation_list in permutation_sequence('a', 'b', 'c'):\n",
    "    print('permutation_list:',permutation_list)"
   ]
  },
  {
   "cell_type": "markdown",
   "metadata": {
    "slideshow": {
     "slide_type": "fragment"
    }
   },
   "source": [
    "Unlike the recursion `permutation`, the above generates a $k$-permutation $(a_{i_0},\\dots,a_{i_{k-1}})$ of $n$ object iteratively by \n",
    "- choosing $i_j$ for $j$ from $0$ to $k-1$ such that\n",
    "- $i_j$ is not already chosen, i.e., $i_j\\not\\in \\{i_0,\\dots,i_{j-1}\\}$."
   ]
  },
  {
   "cell_type": "markdown",
   "metadata": {
    "slideshow": {
     "slide_type": "fragment"
    }
   },
   "source": [
    "E.g., the permutations of $1,2,3$ is generated iteratively as follows:\n",
    "- 1\n",
    " - 1,2\n",
    "   - **(1,2,3)**\n",
    " - 1,3\n",
    "   - **(1,3,2)**\n",
    "- 2\n",
    " - 2,1\n",
    "   - **(2,1,3)**\n",
    " - 2,3\n",
    "   - **(2,3,1)**\n",
    "- 3\n",
    " - 3,1\n",
    "   - **(3,1,2)**\n",
    " - 3,2\n",
    "   - **(3,2,1)**"
   ]
  },
  {
   "cell_type": "markdown",
   "metadata": {
    "slideshow": {
     "slide_type": "fragment"
    }
   },
   "source": [
    "**Invariance maintained at the beginning of iteration:**\n",
    "- `output` is the list of $k$-permutations, and\n",
    "- `idx_left[m]` is the list of indices of arguments not yet in `output[m]`. \n",
    "\n",
    "A $(k+1)$-permutation (in `next_output`) can then be generated by (Line 10) appending an argument (with an index from `idx_left`) to a $k$-permutation (in `output`)."
   ]
  },
  {
   "cell_type": "markdown",
   "metadata": {
    "slideshow": {
     "slide_type": "subslide"
    }
   },
   "source": [
    "Is iteration significantly faster than permutation?"
   ]
  },
  {
   "cell_type": "code",
   "execution_count": null,
   "metadata": {
    "ExecuteTime": {
     "end_time": "2020-10-25T04:00:19.118869Z",
     "start_time": "2020-10-25T04:00:18.309964Z"
    },
    "slideshow": {
     "slide_type": "-"
    }
   },
   "outputs": [],
   "source": [
    "n = 9\n",
    "for k, permutation_list in enumerate(permutation_sequence(*range(1,n+1))):\n",
    "    print('# {}-permutations of {} items: {}'.format(k, n, len(permutation_list)))"
   ]
  },
  {
   "cell_type": "markdown",
   "metadata": {
    "slideshow": {
     "slide_type": "fragment"
    }
   },
   "source": [
    "Unfortunately, there is not much improvement. Nevertheless, we can efficiently compute the number of $k$-permutations based on the previously computed number of $k-1$-permutations:\n",
    "\n",
    "For $k$ from $0$ to $n$,\n",
    "$$\n",
    "P_{n,k} = \\underbrace{\\overbrace{n\\times  (n-1)\\times \\cdots }^{P_{n,k-1}\\text{  if }k>0}\\times(n-k+1)}_{\\text{$k$ terms in the product.}}.$$"
   ]
  },
  {
   "cell_type": "markdown",
   "metadata": {
    "slideshow": {
     "slide_type": "subslide"
    }
   },
   "source": [
    "**Exercise** Use the `yield` statement to write the function `num_permutation_sequence(n)` that returns a generator of $P_{n,k}$ with `k` from `0` to `n`."
   ]
  },
  {
   "cell_type": "code",
   "execution_count": null,
   "metadata": {
    "ExecuteTime": {
     "end_time": "2020-10-25T04:00:19.123241Z",
     "start_time": "2020-10-25T04:00:19.120570Z"
    },
    "deletable": false,
    "nbgrader": {
     "cell_type": "code",
     "checksum": "9e08e8ce2528e86b39e69a97341e658d",
     "grade": false,
     "grade_id": "num_permutation_sequence",
     "locked": false,
     "schema_version": 3,
     "solution": true,
     "task": false
    },
    "slideshow": {
     "slide_type": "-"
    }
   },
   "outputs": [],
   "source": [
    "def num_permutation_sequence(n):\n",
    "    output = 1\n",
    "    for k in range(0, n + 1):\n",
    "        # YOUR CODE HERE\n",
    "        raise NotImplementedError()"
   ]
  },
  {
   "cell_type": "code",
   "execution_count": null,
   "metadata": {
    "ExecuteTime": {
     "end_time": "2020-10-25T04:00:19.325021Z",
     "start_time": "2020-10-25T04:00:19.124559Z"
    },
    "code_folding": [],
    "deletable": false,
    "editable": false,
    "nbgrader": {
     "cell_type": "code",
     "checksum": "c1ad5f69bb41dbbb9e2b180b03fe6424",
     "grade": true,
     "grade_id": "test-num_permutation_sequence",
     "locked": true,
     "points": 1,
     "schema_version": 3,
     "solution": false,
     "task": false
    },
    "slideshow": {
     "slide_type": "-"
    }
   },
   "outputs": [],
   "source": [
    "# tests\n",
    "assert [m for m in num_permutation_sequence(3)] == [1, 3, 6, 6]\n",
    "assert [m for m in num_permutation_sequence(10)] == [1, 10, 90, 720, 5040, 30240, 151200, 604800, 1814400, 3628800, 3628800]"
   ]
  },
  {
   "cell_type": "markdown",
   "metadata": {
    "slideshow": {
     "slide_type": "subslide"
    }
   },
   "source": [
    "**Exercise (Challenge)** Extend the function `num_permutation_sequence(n)` so that calling `send(0)` method causes the generator to increment $n$ instead of $k$ for the next number to generate. i.e., for $0\\leq k \\leq n$,\n",
    "$$\\dots P_{n,k-1}\\to P_{n,k} \\xrightarrow{\\text{send(0)}} P_{n+1,k} \\to P_{n+1,k+1}\\dots$$\n",
    "where $\\to$ without labels is the normal transition without calling the `send` method.\n",
    "\n",
    "*Hint:*\n",
    "$$P_{n+1,k}=P_{n,k} \\times \\frac{n+1}{n-k+1}.$$"
   ]
  },
  {
   "cell_type": "code",
   "execution_count": null,
   "metadata": {
    "ExecuteTime": {
     "end_time": "2020-10-25T04:00:19.340660Z",
     "start_time": "2020-10-25T04:00:19.326317Z"
    },
    "deletable": false,
    "nbgrader": {
     "cell_type": "code",
     "checksum": "92242250b63efa784aef38bdf671edbc",
     "grade": false,
     "grade_id": "num_permutation_sequence_send",
     "locked": false,
     "schema_version": 3,
     "solution": true,
     "task": false
    },
    "slideshow": {
     "slide_type": "-"
    }
   },
   "outputs": [],
   "source": [
    "def num_permutation_sequence(n):\n",
    "    # YOUR CODE HERE\n",
    "    raise NotImplementedError()"
   ]
  },
  {
   "cell_type": "code",
   "execution_count": null,
   "metadata": {
    "ExecuteTime": {
     "end_time": "2020-10-25T04:00:19.362723Z",
     "start_time": "2020-10-25T04:00:19.342606Z"
    },
    "code_folding": [],
    "deletable": false,
    "editable": false,
    "nbgrader": {
     "cell_type": "code",
     "checksum": "ba2e294773c3fb924b4cf8aef6671311",
     "grade": true,
     "grade_id": "test-num_permutation_sequence_send",
     "locked": true,
     "points": 1,
     "schema_version": 3,
     "solution": false,
     "task": false
    },
    "slideshow": {
     "slide_type": "-"
    }
   },
   "outputs": [],
   "source": [
    "# tests\n",
    "g = num_permutation_sequence(3)\n",
    "assert (next(g), next(g), g.send(0), next(g), next(g), next(g), g.send(0)) == (1, 3, 4, 12, 24, 24, 120)"
   ]
  },
  {
   "cell_type": "markdown",
   "metadata": {
    "slideshow": {
     "slide_type": "slide"
    }
   },
   "source": [
    "## Deduplication using Decorator"
   ]
  },
  {
   "cell_type": "markdown",
   "metadata": {
    "slideshow": {
     "slide_type": "subslide"
    }
   },
   "source": [
    "An issue with the function `permutation` is that it regards arguments at different positions as distinct even if they may have the same value. E.g.,  \n",
    "`permutation(1,1,2)` returns `[(1, 1, 2), (1, 2, 1), (1, 1, 2), (1, 2, 1), (2, 1, 1), (2, 1, 1)]`  \n",
    "where each distinct permutation appears twice."
   ]
  },
  {
   "cell_type": "markdown",
   "metadata": {
    "slideshow": {
     "slide_type": "fragment"
    }
   },
   "source": [
    "To remove duplicates from a list, we can \n",
    "- convert the list to a `set` (which automatically remove duplicates),\n",
    "- and then convert the set back to a list."
   ]
  },
  {
   "cell_type": "code",
   "execution_count": 15,
   "metadata": {
    "ExecuteTime": {
     "end_time": "2020-11-03T04:32:23.461812Z",
     "start_time": "2020-11-03T04:32:23.456363Z"
    },
    "slideshow": {
     "slide_type": "fragment"
    }
   },
   "outputs": [
    {
     "name": "stdout",
     "output_type": "stream",
     "text": [
      "Deduplicated: [(1, 2, 1), (2, 1, 1), (1, 1, 2)]\n"
     ]
    }
   ],
   "source": [
    "print('Deduplicated:',list(set(permutation(1,1,2))))"
   ]
  },
  {
   "cell_type": "markdown",
   "metadata": {
    "slideshow": {
     "slide_type": "subslide"
    }
   },
   "source": [
    "Using a decorator, we can fix `permutation` without rewriting the function."
   ]
  },
  {
   "cell_type": "code",
   "execution_count": 16,
   "metadata": {
    "ExecuteTime": {
     "end_time": "2020-11-03T04:32:48.099637Z",
     "start_time": "2020-11-03T04:32:48.089412Z"
    },
    "slideshow": {
     "slide_type": "fragment"
    }
   },
   "outputs": [
    {
     "name": "stdout",
     "output_type": "stream",
     "text": [
      "Deduplicated:  [(1, 2, 1), (2, 1, 1), (1, 1, 2)]\n",
      "Original:  [(1, 1, 2), (1, 2, 1), (1, 1, 2), (1, 2, 1), (2, 1, 1), (2, 1, 1)]\n"
     ]
    }
   ],
   "source": [
    "import functools\n",
    "\n",
    "\n",
    "def deduplicate_output(f):\n",
    "    '''Takes in a function f that returns a list possibly with duplicates,\n",
    "    returns a decorator that remove duplicates from the output list.'''\n",
    "    @functools.wraps(f)\n",
    "    def wrapper(*args, **kwargs):\n",
    "        return list(set(f(*args, **kwargs)))\n",
    "\n",
    "    return wrapper\n",
    "\n",
    "\n",
    "permutation = deduplicate_output(permutation)\n",
    "print('Deduplicated: ', permutation(1, 1, 2))\n",
    "permutation = permutation.__wrapped__\n",
    "print('Original: ', permutation(1, 1, 2))"
   ]
  },
  {
   "cell_type": "markdown",
   "metadata": {
    "slideshow": {
     "slide_type": "subslide"
    }
   },
   "source": [
    "**Exercise:** Create a decorator to eliminate duplicate input positional arguments instead of the ouput, i.e.,  \n",
    "`permutation(1,1,2)` will return the same result as `permutation(1,2)`."
   ]
  },
  {
   "cell_type": "code",
   "execution_count": null,
   "metadata": {
    "ExecuteTime": {
     "end_time": "2020-10-25T04:00:19.400628Z",
     "start_time": "2020-10-25T04:00:19.391610Z"
    },
    "deletable": false,
    "nbgrader": {
     "cell_type": "code",
     "checksum": "34f77d1a96354fb05bc0ae0c94e1b48d",
     "grade": false,
     "grade_id": "deduplicate_input",
     "locked": false,
     "schema_version": 3,
     "solution": true,
     "task": false
    },
    "slideshow": {
     "slide_type": "-"
    }
   },
   "outputs": [],
   "source": [
    "def deduplicate_input(f):\n",
    "    '''Takes in a function f that takes a variable number of arguments \n",
    "    possibly with duplicates, returns a decorator that remove duplicates \n",
    "    in the positional argument.'''\n",
    "    @functools.wraps(f)\n",
    "    def wrapper(*args, **kwargs):\n",
    "        # YOUR CODE HERE\n",
    "        raise NotImplementedError()\n",
    "\n",
    "    return wrapper"
   ]
  },
  {
   "cell_type": "code",
   "execution_count": null,
   "metadata": {
    "ExecuteTime": {
     "end_time": "2020-10-25T04:00:24.221324Z",
     "start_time": "2020-10-25T04:00:24.209326Z"
    },
    "code_folding": [
     0
    ],
    "deletable": false,
    "editable": false,
    "nbgrader": {
     "cell_type": "code",
     "checksum": "da5adcc6913f64d54e4c800dcf5654bb",
     "grade": true,
     "grade_id": "test-deduplicate_input",
     "locked": true,
     "points": 1,
     "schema_version": 3,
     "solution": false,
     "task": false
    },
    "slideshow": {
     "slide_type": "-"
    },
    "solution": "hidden"
   },
   "outputs": [],
   "source": [
    "# tests\n",
    "permutation = deduplicate_input(permutation)\n",
    "assert set(permutation(1,1,2)) == set([(1, 2), (2, 1)])\n",
    "permutation = permutation.__wrapped__"
   ]
  },
  {
   "cell_type": "code",
   "execution_count": 20,
   "metadata": {
    "ExecuteTime": {
     "end_time": "2020-11-03T03:33:06.347814Z",
     "start_time": "2020-11-03T03:33:06.339003Z"
    }
   },
   "outputs": [
    {
     "name": "stdout",
     "output_type": "stream",
     "text": [
      "This is printed first\n",
      "1\n",
      "This is printed second\n",
      "2\n",
      "This is printed at last\n",
      "3\n"
     ]
    }
   ],
   "source": [
    "# A simple generator function\n",
    "def my_gen():\n",
    "    n = 1\n",
    "    print('This is printed first')\n",
    "    # Generator function contains yield statements\n",
    "    yield n\n",
    "\n",
    "    n += 1\n",
    "    print('This is printed second')\n",
    "    yield n\n",
    "\n",
    "    n += 1\n",
    "    print('This is printed at last')\n",
    "    yield n\n",
    "\n",
    "\n",
    "# Using for loop\n",
    "for item in my_gen():\n",
    "    print(item)"
   ]
  },
  {
   "cell_type": "code",
   "execution_count": 21,
   "metadata": {
    "ExecuteTime": {
     "end_time": "2020-11-03T03:33:34.291209Z",
     "start_time": "2020-11-03T03:33:34.254332Z"
    }
   },
   "outputs": [
    {
     "name": "stdout",
     "output_type": "stream",
     "text": [
      "This is printed first\n"
     ]
    },
    {
     "ename": "TypeError",
     "evalue": "'int' object is not iterable",
     "output_type": "error",
     "traceback": [
      "\u001b[0;31m---------------------------------------------------------------------------\u001b[0m",
      "\u001b[0;31mTypeError\u001b[0m                                 Traceback (most recent call last)",
      "\u001b[0;32m<ipython-input-21-3961c068d2f7>\u001b[0m in \u001b[0;36m<module>\u001b[0;34m\u001b[0m\n\u001b[1;32m     16\u001b[0m \u001b[0;34m\u001b[0m\u001b[0m\n\u001b[1;32m     17\u001b[0m \u001b[0;31m# Using for loop\u001b[0m\u001b[0;34m\u001b[0m\u001b[0;34m\u001b[0m\u001b[0;34m\u001b[0m\u001b[0m\n\u001b[0;32m---> 18\u001b[0;31m \u001b[0;32mfor\u001b[0m \u001b[0mitem\u001b[0m \u001b[0;32min\u001b[0m \u001b[0mmy_gen\u001b[0m\u001b[0;34m(\u001b[0m\u001b[0;34m)\u001b[0m\u001b[0;34m:\u001b[0m\u001b[0;34m\u001b[0m\u001b[0;34m\u001b[0m\u001b[0m\n\u001b[0m\u001b[1;32m     19\u001b[0m     \u001b[0mprint\u001b[0m\u001b[0;34m(\u001b[0m\u001b[0mitem\u001b[0m\u001b[0;34m)\u001b[0m\u001b[0;34m\u001b[0m\u001b[0;34m\u001b[0m\u001b[0m\n",
      "\u001b[0;31mTypeError\u001b[0m: 'int' object is not iterable"
     ]
    }
   ],
   "source": [
    "# A normal function\n",
    "def my_gen():\n",
    "    n = 1\n",
    "    print('This is printed first')\n",
    "    # normal function contains return statements\n",
    "    return n\n",
    "\n",
    "    n += 1\n",
    "    print('This is printed second')\n",
    "    return n\n",
    "\n",
    "    n += 1\n",
    "    print('This is printed at last')\n",
    "    return n\n",
    "\n",
    "\n",
    "# Using for loop\n",
    "for item in my_gen():\n",
    "    print(item)"
   ]
  },
  {
   "cell_type": "code",
   "execution_count": 30,
   "metadata": {
    "ExecuteTime": {
     "end_time": "2020-11-03T03:45:35.665502Z",
     "start_time": "2020-11-03T03:45:35.658518Z"
    }
   },
   "outputs": [
    {
     "name": "stdout",
     "output_type": "stream",
     "text": [
      "This is printed first\n",
      "1\n",
      "This is printed second\n",
      "2\n",
      "This is printed at last\n",
      "3\n"
     ]
    }
   ],
   "source": [
    "# A simple generator function\n",
    "def my_gen():\n",
    "    n = 1\n",
    "    print('This is printed first')\n",
    "    # Generator function contains yield statements\n",
    "    yield n\n",
    "\n",
    "    n += 1\n",
    "    print('This is printed second')\n",
    "    yield n\n",
    "\n",
    "    n += 1\n",
    "    print('This is printed at last')\n",
    "    yield n\n",
    "\n",
    "\n",
    "# It returns an object but does not start execution immediately.\n",
    "a = my_gen()\n",
    "# We can iterate through the items using next().\n",
    "value=next(a)\n",
    "print(value)\n",
    "# Once the function yields, the function is paused and the control is transferred to the caller.\n",
    "# Local variables and theirs states are remembered between successive calls.\n",
    "value=next(a)\n",
    "print(value)\n",
    "value=next(a)\n",
    "print(value)"
   ]
  },
  {
   "cell_type": "code",
   "execution_count": 28,
   "metadata": {
    "ExecuteTime": {
     "end_time": "2020-11-03T06:31:48.182961Z",
     "start_time": "2020-11-03T06:31:48.175517Z"
    }
   },
   "outputs": [
    {
     "data": {
      "text/html": [
       "\n",
       "        <iframe\n",
       "            width=\"1300\"\n",
       "            height=\"600\"\n",
       "            src=\"https://e-quiz.cs.cityu.edu.hk/opt/cs1302visualize.html#mode=display&code=def%20my_gen%28%29%3A%0A%20%20%20%20n%3D1%0A%20%20%20%20received_value%20%3D%20yield%20n%0A%20%20%20%20print%28%27I%20received%20the%20first%20number%3A%27%2Creceived_value%29%0A%0A%20%20%20%20n%20%2B%3D%201%0A%20%20%20%20received_value%20%3D%20yield%20n%0A%20%20%20%20print%28%27I%20received%20the%20second%20number%3A%27%2Creceived_value%29%0A%20%20%20%0A%20%20%20%20n%20%2B%3D%201%0A%20%20%20%20received_value%20%3D%20yield%20n%0A%20%20%20%20print%28%27I%20received%20the%20third%20number%3A%27%2Creceived_value%29%0A%0A%0A%23%20It%20returns%20an%20object%20but%20does%20not%20start%20execution%20immediately.%0Aa%20%3D%20my_gen%28%29%0A%0Agenerated_value%3Dnext%28a%29%0Aprint%28%22I%20generated%3A%22%2Cgenerated_value%29%0A%0Agenerated_value%3Da.send%28100%29%0Aprint%28%22I%20generated%3A%22%2Cgenerated_value%29%0A%0Agenerated_value%3Da.send%28200%29%0Aprint%28%22I%20generated%3A%22%2Cgenerated_value%29%0A%0Agenerated_value%3Da.send%28300%29%0A\"\n",
       "            frameborder=\"0\"\n",
       "            allowfullscreen\n",
       "        ></iframe>\n",
       "        "
      ],
      "text/plain": [
       "<IPython.lib.display.IFrame at 0x7f796c79f490>"
      ]
     },
     "metadata": {},
     "output_type": "display_data"
    }
   ],
   "source": [
    "%%mytutor -h 600 -w 1300\n",
    "def my_gen():\n",
    "    n=1\n",
    "    received_value = yield n\n",
    "    print('I received the first number:',received_value)\n",
    "\n",
    "    n += 1\n",
    "    received_value = yield n\n",
    "    print('I received the second number:',received_value)\n",
    "   \n",
    "    n += 1\n",
    "    received_value = yield n\n",
    "    print('I received the third number:',received_value)\n",
    "\n",
    "\n",
    "# It returns an object but does not start execution immediately.\n",
    "a = my_gen()\n",
    "\n",
    "generated_value=next(a)\n",
    "print(\"I generated:\",generated_value)\n",
    "\n",
    "generated_value=a.send(100)\n",
    "print(\"I generated:\",generated_value)\n",
    "\n",
    "generated_value=a.send(200)\n",
    "print(\"I generated:\",generated_value)\n",
    "\n",
    "generated_value=a.send(300)"
   ]
  },
  {
   "cell_type": "code",
   "execution_count": 17,
   "metadata": {
    "ExecuteTime": {
     "end_time": "2020-11-03T04:35:35.919388Z",
     "start_time": "2020-11-03T04:35:35.913197Z"
    }
   },
   "outputs": [
    {
     "name": "stdout",
     "output_type": "stream",
     "text": [
      "The list before conversion is : [3, 4, 1, 4, 5]\n",
      "The tuple before conversion is : (3, 4, 1, 4, 5)\n",
      "The list after conversion is : {1, 3, 4, 5}\n",
      "The tuple after conversion is : {1, 3, 4, 5}\n"
     ]
    }
   ],
   "source": [
    "# Python3 code to demonstrate the \n",
    "# working of set() on list and tuple \n",
    "\n",
    "# initializing list \n",
    "lis1 = [ 3, 4, 1, 4, 5 ] \n",
    "\n",
    "# initializing tuple \n",
    "tup1 = (3, 4, 1, 4, 5) \n",
    "\n",
    "# Printing iterables before conversion \n",
    "print(\"The list before conversion is : \" + str(lis1)) \n",
    "print(\"The tuple before conversion is : \" + str(tup1)) \n",
    "\n",
    "# Iterables after conversion are \n",
    "# notice distinct and elements \n",
    "print(\"The list after conversion is : \" + str(set(lis1))) \n",
    "print(\"The tuple after conversion is : \" + str(set(tup1))) \n"
   ]
  },
  {
   "cell_type": "code",
   "execution_count": 30,
   "metadata": {
    "ExecuteTime": {
     "end_time": "2020-11-03T06:35:54.176419Z",
     "start_time": "2020-11-03T06:35:54.169047Z"
    }
   },
   "outputs": [
    {
     "data": {
      "text/html": [
       "\n",
       "        <iframe\n",
       "            width=\"1300\"\n",
       "            height=\"600\"\n",
       "            src=\"https://e-quiz.cs.cityu.edu.hk/opt/cs1302visualize.html#mode=display&code=def%20my_gen%28%29%3A%0A%20%20%20%20n%3D1%0A%20%20%20%20received_value%20%3D%20yield%20n%0A%20%20%20%20print%28%27I%20received%20the%20first%20number%3A%27%2Creceived_value%29%0A%0A%20%20%20%20n%20%2B%3D%201%0A%20%20%20%20received_value%20%3D%20yield%20n%0A%20%20%20%20print%28%27I%20received%20the%20second%20number%3A%27%2Creceived_value%29%0A%20%20%20%0A%20%20%20%20n%20%2B%3D%201%0A%20%20%20%20received_value%20%3D%20yield%20n%0A%20%20%20%20print%28%27I%20received%20the%20third%20number%3A%27%2Creceived_value%29%0A%0A%0A%23%20It%20returns%20an%20object%20but%20does%20not%20start%20execution%20immediately.%0Aa%20%3D%20my_gen%28%29%0A%0Agenerated_value%3Dnext%28a%29%0Aprint%28%22I%20generated%3A%22%2Cgenerated_value%29%0A%0Agenerated_value%3Da.send%28100%29%0Aprint%28%22I%20generated%3A%22%2Cgenerated_value%29%0A%0Agenerated_value%3Da.send%28200%29%0Aprint%28%22I%20generated%3A%22%2Cgenerated_value%29%0A%0Agenerated_value%3Da.send%28300%29%0A\"\n",
       "            frameborder=\"0\"\n",
       "            allowfullscreen\n",
       "        ></iframe>\n",
       "        "
      ],
      "text/plain": [
       "<IPython.lib.display.IFrame at 0x7f796c865290>"
      ]
     },
     "metadata": {},
     "output_type": "display_data"
    }
   ],
   "source": [
    "%%mytutor -h 600 -w 1300\n",
    "def my_gen():\n",
    "    n=1\n",
    "    received_value = yield n\n",
    "    print('I received the first number:',received_value)\n",
    "\n",
    "    n += 1\n",
    "    received_value = yield n\n",
    "    print('I received the second number:',received_value)\n",
    "   \n",
    "    n += 1\n",
    "    received_value = yield n\n",
    "    print('I received the third number:',received_value)\n",
    "\n",
    "\n",
    "# It returns an object but does not start execution immediately.\n",
    "a = my_gen()\n",
    "\n",
    "generated_value=next(a)\n",
    "print(\"I generated:\",generated_value)\n",
    "\n",
    "generated_value=a.send(100)\n",
    "print(\"I generated:\",generated_value)\n",
    "\n",
    "generated_value=a.send(200)\n",
    "print(\"I generated:\",generated_value)\n",
    "\n",
    "generated_value=a.send(300)"
   ]
  },
  {
   "cell_type": "code",
   "execution_count": null,
   "metadata": {},
   "outputs": [],
   "source": []
  }
 ],
 "metadata": {
  "kernelspec": {
   "display_name": "Python 3.7",
   "language": "python",
   "name": "python3"
  },
  "language_info": {
   "codemirror_mode": {
    "name": "ipython",
    "version": 3
   },
   "file_extension": ".py",
   "mimetype": "text/x-python",
   "name": "python",
   "nbconvert_exporter": "python",
   "pygments_lexer": "ipython3",
   "version": "3.7.6"
  },
  "latex_envs": {
   "LaTeX_envs_menu_present": true,
   "autoclose": false,
   "autocomplete": true,
   "bibliofile": "biblio.bib",
   "cite_by": "apalike",
   "current_citInitial": 1,
   "eqLabelWithNumbers": true,
   "eqNumInitial": 1,
   "hotkeys": {
    "equation": "Ctrl-E",
    "itemize": "Ctrl-I"
   },
   "labels_anchors": false,
   "latex_user_defs": false,
   "report_style_numbering": false,
   "user_envs_cfg": false
  },
  "toc": {
   "base_numbering": 1,
   "nav_menu": {},
   "number_sections": true,
   "sideBar": true,
   "skip_h1_title": true,
   "title_cell": "Table of Contents",
   "title_sidebar": "Contents",
   "toc_cell": false,
   "toc_position": {},
   "toc_section_display": true,
   "toc_window_display": false
  }
 },
 "nbformat": 4,
 "nbformat_minor": 4
}
