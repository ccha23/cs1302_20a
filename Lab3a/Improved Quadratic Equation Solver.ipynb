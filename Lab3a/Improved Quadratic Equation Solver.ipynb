{
 "cells": [
  {
   "cell_type": "markdown",
   "metadata": {
    "slideshow": {
     "slide_type": "slide"
    }
   },
   "source": [
    "# Improved Quadratic Equation Solver\n",
    "**CS1302 Introduction to Computer Programming**\n",
    "___"
   ]
  },
  {
   "cell_type": "markdown",
   "metadata": {
    "ExecuteTime": {
     "end_time": "2020-09-13T01:19:41.712043Z",
     "start_time": "2020-09-13T01:19:41.704733Z"
    },
    "slideshow": {
     "slide_type": "subslide"
    }
   },
   "source": [
    "In this notebook, we will improve the quadratic equation solver in the previous lab using conditional executions.  \n",
    "First of all, run the following to setup the environment."
   ]
  },
  {
   "cell_type": "code",
   "execution_count": 1,
   "metadata": {
    "ExecuteTime": {
     "end_time": "2020-09-22T05:38:19.981776Z",
     "start_time": "2020-09-22T05:38:19.897995Z"
    },
    "slideshow": {
     "slide_type": "skip"
    }
   },
   "outputs": [],
   "source": [
    "%reset -f\n",
    "from ipywidgets import interact\n",
    "import math"
   ]
  },
  {
   "cell_type": "markdown",
   "metadata": {
    "slideshow": {
     "slide_type": "subslide"
    }
   },
   "source": [
    "## Zero Discriminant"
   ]
  },
  {
   "cell_type": "markdown",
   "metadata": {
    "slideshow": {
     "slide_type": "fragment"
    }
   },
   "source": [
    "Recall that the quadratic equation is\n",
    "$$ax^2+bx+c=0$$\n",
    "where $a$, $b$, and $c$ are real-valued coefficients, and $x$ is the unknown variable. The roots are normally given by\n",
    "$$\\frac{-b-\\sqrt{b^2-4ac}}{2a}, \\frac{-b+\\sqrt{b^2-4ac}}{2a}.$$"
   ]
  },
  {
   "cell_type": "markdown",
   "metadata": {
    "slideshow": {
     "slide_type": "fragment"
    }
   },
   "source": [
    "The roots are the same (repeated) when the discriminant $b^2-4ac$ is zero."
   ]
  },
  {
   "cell_type": "markdown",
   "metadata": {
    "slideshow": {
     "slide_type": "subslide"
    }
   },
   "source": [
    "**Exercise** Assign to `roots` only one root when the discriminant is zero. E.g., if $(a,b,c)=(1,-2,1)$, then `roots` should be assigned the value `1.0` instead of `1.0, 1.0`."
   ]
  },
  {
   "cell_type": "markdown",
   "metadata": {
    "slideshow": {
     "slide_type": "fragment"
    }
   },
   "source": [
    "*Hint*: Use the [`if` statement](https://docs.python.org/3/reference/compound_stmts.html#if)."
   ]
  },
  {
   "cell_type": "markdown",
   "metadata": {},
   "source": [
    "*Hint:* The following is a solution template with some missing code. You are NOT required to follow the template.\n",
    "```Python\n",
    "def get_roots(a, b, c):\n",
    "    d = b**2 - 4 * a * c    # discriminant\n",
    "    if math.isclose(d, 0):\n",
    "        roots = __________  # repeated root\n",
    "    else:\n",
    "        d **= 0.5\n",
    "        roots = __________________________________\n",
    "    return roots\n",
    "```"
   ]
  },
  {
   "cell_type": "code",
   "execution_count": 2,
   "metadata": {
    "ExecuteTime": {
     "end_time": "2020-09-22T05:38:19.992947Z",
     "start_time": "2020-09-22T05:38:19.985698Z"
    },
    "deletable": false,
    "nbgrader": {
     "cell_type": "code",
     "checksum": "d714929836f19c943b792e1658f5a8e1",
     "grade": false,
     "grade_id": "zero_determininant",
     "locked": false,
     "schema_version": 3,
     "solution": true,
     "task": false
    },
    "slideshow": {
     "slide_type": "fragment"
    }
   },
   "outputs": [],
   "source": [
    "def get_roots(a, b, c):\n",
    "    d = b**2 - 4 * a * c    # discriminant\n",
    "    if math.isclose(d, 0):\n",
    "        roots = -b / 2 / a\n",
    "    else:\n",
    "        d **= 0.5\n",
    "        root1 = (-b + d)/2/a\n",
    "        root2 = (-b-d)/2/a\n",
    "        roots = root1, root2\n",
    "    return roots"
   ]
  },
  {
   "cell_type": "code",
   "execution_count": 3,
   "metadata": {
    "ExecuteTime": {
     "end_time": "2020-09-22T05:38:20.004507Z",
     "start_time": "2020-09-22T05:38:19.996991Z"
    },
    "code_folding": [],
    "deletable": false,
    "editable": false,
    "nbgrader": {
     "cell_type": "code",
     "checksum": "602a405a080268df323802cb1444731b",
     "grade": true,
     "grade_id": "test-zero_determinant",
     "locked": true,
     "points": 1,
     "schema_version": 3,
     "solution": false,
     "task": false
    }
   },
   "outputs": [],
   "source": [
    "# tests\n",
    "def test_get_roots(roots, a, b, c):\n",
    "    roots_ = get_roots(a, b, c)\n",
    "    if roots is None:\n",
    "        correct = roots_ is None\n",
    "    elif isinstance(roots, float):\n",
    "        correct = isinstance(roots_, float) and math.isclose(roots, roots_)\n",
    "    else:\n",
    "        correct = isinstance(roots_, tuple) and len(roots_) == 2 and all([\n",
    "            math.isclose(root, roots_) for root, roots_ in zip(roots, roots_)\n",
    "        ])\n",
    "    if not correct:\n",
    "        print(f'With (a, b, c)={a,b,c}, roots should be {roots} not {roots_}.')\n",
    "    assert correct\n",
    "\n",
    "test_get_roots((-0.0, -1.0), 1, 1, 0)\n",
    "test_get_roots(0.0, 1, 0, 0)"
   ]
  },
  {
   "cell_type": "markdown",
   "metadata": {
    "slideshow": {
     "slide_type": "fragment"
    }
   },
   "source": [
    "**Exercise** Why use `math.isclose(d,0)` instead of `d == 0`?"
   ]
  },
  {
   "cell_type": "markdown",
   "metadata": {
    "deletable": false,
    "nbgrader": {
     "cell_type": "markdown",
     "checksum": "12889805830e3af64988ae0de141f1b7",
     "grade": true,
     "grade_id": "isclose",
     "locked": false,
     "points": 1,
     "schema_version": 3,
     "solution": true,
     "task": false
    },
    "slideshow": {
     "slide_type": "fragment"
    }
   },
   "source": [
    "Precise issue"
   ]
  },
  {
   "cell_type": "markdown",
   "metadata": {
    "slideshow": {
     "slide_type": "slide"
    }
   },
   "source": [
    "## Linear Equation"
   ]
  },
  {
   "cell_type": "markdown",
   "metadata": {
    "slideshow": {
     "slide_type": "fragment"
    }
   },
   "source": [
    "If $a=0$, the earlier formula for the roots are invalid due to division by zero. Nevertheless, the equation remains valid:\n",
    "$$bx + c=0.$$"
   ]
  },
  {
   "cell_type": "markdown",
   "metadata": {},
   "source": [
    "**Exercise** Improve the function `get_roots` to return the root $-\\frac{c}{b}$ if $a=0$."
   ]
  },
  {
   "cell_type": "markdown",
   "metadata": {},
   "source": [
    "*Hint:* Solution template:\n",
    "```Python\n",
    "def get_roots(a, b, c):\n",
    "    d = b**2 - 4 * a * c    # discriminant\n",
    "    if __________________:\n",
    "        roots = ______\n",
    "    elif math.isclose(d, 0):\n",
    "        roots = __________  # repeated root\n",
    "    else:\n",
    "        d **= 0.5\n",
    "        roots = __________________________________\n",
    "    return roots\n",
    "```"
   ]
  },
  {
   "cell_type": "code",
   "execution_count": 4,
   "metadata": {
    "ExecuteTime": {
     "end_time": "2020-09-22T05:38:20.021922Z",
     "start_time": "2020-09-22T05:38:20.015551Z"
    },
    "deletable": false,
    "nbgrader": {
     "cell_type": "code",
     "checksum": "91cb96a126c80c4bee75a1b75d10817d",
     "grade": false,
     "grade_id": "linear",
     "locked": false,
     "schema_version": 3,
     "solution": true,
     "task": false
    }
   },
   "outputs": [],
   "source": [
    "def get_roots(a, b, c):\n",
    "    d = b**2 - 4 * a * c\n",
    "    # YOUR CODE HERE\n",
    "    if a == 0:\n",
    "        roots = -c / b\n",
    "    elif math.isclose(d, 0):\n",
    "        roots = -b / 2 / a\n",
    "    else:\n",
    "        d **= 0.5\n",
    "        root1 = (-b + d)/2/a\n",
    "        root2 = (-b-d)/2/a\n",
    "        roots = root1, root2\n",
    "    return roots"
   ]
  },
  {
   "cell_type": "code",
   "execution_count": 5,
   "metadata": {
    "ExecuteTime": {
     "end_time": "2020-09-22T05:38:20.033892Z",
     "start_time": "2020-09-22T05:38:20.025559Z"
    },
    "code_folding": [
     0
    ],
    "deletable": false,
    "editable": false,
    "nbgrader": {
     "cell_type": "code",
     "checksum": "e09baa85f21ecc06e8cf6f85bad6cf25",
     "grade": true,
     "grade_id": "test-linear",
     "locked": true,
     "points": 1,
     "schema_version": 3,
     "solution": false,
     "task": false
    }
   },
   "outputs": [],
   "source": [
    "# tests\n",
    "def test_get_roots(roots, a, b, c):\n",
    "    roots_ = get_roots(a, b, c)\n",
    "    if roots is None:\n",
    "        correct = roots_ is None\n",
    "    elif isinstance(roots, float):\n",
    "        correct = isinstance(roots_, float) and math.isclose(roots, roots_)\n",
    "    else:\n",
    "        correct = isinstance(roots_, tuple) and len(roots_) == 2 and all([\n",
    "            math.isclose(root, roots_) for root, roots_ in zip(roots, roots_)\n",
    "        ])\n",
    "    if not correct:\n",
    "        print(f'With (a, b, c)={a,b,c}, roots should be {roots} not {roots_}.')\n",
    "    assert correct\n",
    "\n",
    "\n",
    "test_get_roots((-0.0, -1.0), 1, 1, 0)\n",
    "test_get_roots(0.0, 1, 0, 0)\n",
    "test_get_roots(0.5, 0, -2, 1)"
   ]
  },
  {
   "cell_type": "markdown",
   "metadata": {},
   "source": [
    "## Degenerate Cases"
   ]
  },
  {
   "cell_type": "markdown",
   "metadata": {},
   "source": [
    "What if $a=b=0$? In that case, the equation becomes\n",
    "$$c = 0$$\n",
    "which is always satisfied if $c=0$, but never satisfied if $c\\neq 0$. "
   ]
  },
  {
   "cell_type": "markdown",
   "metadata": {
    "slideshow": {
     "slide_type": "fragment"
    }
   },
   "source": [
    "**Exercise** Improve the function `get_roots` to return root(s) under all cases:\n",
    "- If $a=0$ and $b\\neq 0$, assign `roots` to the single root $-\\frac{c}{b}$. \n",
    "- If $a=b=0$ and $c\\neq 0$, assign `roots` to `None`.  \n",
    "    Note that `None` is an object, not a string.\n",
    "- If $a=b=c=0$, there are infinitely many roots. Assign to `roots` the tuple `-float('inf'), float('inf')`.  \n",
    "    Note that `float('inf')` converts the string `'inf'` to a floating point value that represents $\\infty$."
   ]
  },
  {
   "cell_type": "markdown",
   "metadata": {
    "slideshow": {
     "slide_type": "fragment"
    }
   },
   "source": [
    "*Hint:* Use nested `if` statements such as the followings (with the blanks filled in properly):\n",
    "```Python\n",
    "def get_roots(a, b, c):\n",
    "    d = b**2 - 4 * a * c\n",
    "    if __________________:\n",
    "        if __________________:\n",
    "            if __________________:\n",
    "                roots = -float('inf'), float('inf')\n",
    "            else:\n",
    "                roots = None\n",
    "        else:\n",
    "            ______________\n",
    "    elif math.isclose(d, 0):\n",
    "        roots = __________  # repeated root\n",
    "    else:\n",
    "        d **= 0.5\n",
    "        roots = __________________________________\n",
    "    return roots\n",
    "```"
   ]
  },
  {
   "cell_type": "code",
   "execution_count": 6,
   "metadata": {
    "ExecuteTime": {
     "end_time": "2020-09-22T05:38:20.056806Z",
     "start_time": "2020-09-22T05:38:20.051243Z"
    },
    "deletable": false,
    "nbgrader": {
     "cell_type": "code",
     "checksum": "6aaa3285d06d9abdffda6e734b924ac1",
     "grade": false,
     "grade_id": "degenerate",
     "locked": false,
     "schema_version": 3,
     "solution": true,
     "task": false
    },
    "slideshow": {
     "slide_type": "skip"
    }
   },
   "outputs": [],
   "source": [
    "def get_roots(a, b, c):\n",
    "    d = b**2 - 4 * a * c\n",
    "    if a == 0:\n",
    "        roots = -c / b\n",
    "    elif math.isclose(d, 0):\n",
    "        roots = -b / 2 / a\n",
    "    else:\n",
    "        d **= 0.5\n",
    "        root1 = (-b + d)/2/a\n",
    "        root2 = (-b-d)/2/a\n",
    "        roots = root1, root2\n",
    "    return roots"
   ]
  },
  {
   "cell_type": "code",
   "execution_count": 7,
   "metadata": {
    "ExecuteTime": {
     "end_time": "2020-09-22T05:38:20.134667Z",
     "start_time": "2020-09-22T05:38:20.060220Z"
    },
    "code_folding": [
     0
    ],
    "deletable": false,
    "editable": false,
    "nbgrader": {
     "cell_type": "code",
     "checksum": "df83f166ba5d2a6e590b2f6e1cc82ee7",
     "grade": true,
     "grade_id": "test_degenerate",
     "locked": true,
     "points": 1,
     "schema_version": 3,
     "solution": false,
     "task": false
    },
    "slideshow": {
     "slide_type": "skip"
    }
   },
   "outputs": [
    {
     "ename": "NotImplementedError",
     "evalue": "",
     "output_type": "error",
     "traceback": [
      "\u001b[0;31m---------------------------------------------------------------------------\u001b[0m",
      "\u001b[0;31mNotImplementedError\u001b[0m                       Traceback (most recent call last)",
      "\u001b[0;32m<ipython-input-7-ae3aacb27799>\u001b[0m in \u001b[0;36m<module>\u001b[0;34m\u001b[0m\n\u001b[1;32m     15\u001b[0m \u001b[0;34m\u001b[0m\u001b[0m\n\u001b[1;32m     16\u001b[0m \u001b[0;34m\u001b[0m\u001b[0m\n\u001b[0;32m---> 17\u001b[0;31m \u001b[0mtest_get_roots\u001b[0m\u001b[0;34m(\u001b[0m\u001b[0;34m(\u001b[0m\u001b[0;34m-\u001b[0m\u001b[0;36m0.0\u001b[0m\u001b[0;34m,\u001b[0m \u001b[0;34m-\u001b[0m\u001b[0;36m1.0\u001b[0m\u001b[0;34m)\u001b[0m\u001b[0;34m,\u001b[0m \u001b[0;36m1\u001b[0m\u001b[0;34m,\u001b[0m \u001b[0;36m1\u001b[0m\u001b[0;34m,\u001b[0m \u001b[0;36m0\u001b[0m\u001b[0;34m)\u001b[0m\u001b[0;34m\u001b[0m\u001b[0;34m\u001b[0m\u001b[0m\n\u001b[0m\u001b[1;32m     18\u001b[0m \u001b[0mtest_get_roots\u001b[0m\u001b[0;34m(\u001b[0m\u001b[0;36m0.0\u001b[0m\u001b[0;34m,\u001b[0m \u001b[0;36m1\u001b[0m\u001b[0;34m,\u001b[0m \u001b[0;36m0\u001b[0m\u001b[0;34m,\u001b[0m \u001b[0;36m0\u001b[0m\u001b[0;34m)\u001b[0m\u001b[0;34m\u001b[0m\u001b[0;34m\u001b[0m\u001b[0m\n\u001b[1;32m     19\u001b[0m \u001b[0mtest_get_roots\u001b[0m\u001b[0;34m(\u001b[0m\u001b[0;34m(\u001b[0m\u001b[0;34m-\u001b[0m\u001b[0mfloat\u001b[0m\u001b[0;34m(\u001b[0m\u001b[0;34m'inf'\u001b[0m\u001b[0;34m)\u001b[0m\u001b[0;34m,\u001b[0m \u001b[0mfloat\u001b[0m\u001b[0;34m(\u001b[0m\u001b[0;34m'inf'\u001b[0m\u001b[0;34m)\u001b[0m\u001b[0;34m)\u001b[0m\u001b[0;34m,\u001b[0m \u001b[0;36m0\u001b[0m\u001b[0;34m,\u001b[0m \u001b[0;36m0\u001b[0m\u001b[0;34m,\u001b[0m \u001b[0;36m0\u001b[0m\u001b[0;34m)\u001b[0m\u001b[0;34m\u001b[0m\u001b[0;34m\u001b[0m\u001b[0m\n",
      "\u001b[0;32m<ipython-input-7-ae3aacb27799>\u001b[0m in \u001b[0;36mtest_get_roots\u001b[0;34m(roots, a, b, c)\u001b[0m\n\u001b[1;32m      1\u001b[0m \u001b[0;31m# tests\u001b[0m\u001b[0;34m\u001b[0m\u001b[0;34m\u001b[0m\u001b[0;34m\u001b[0m\u001b[0m\n\u001b[1;32m      2\u001b[0m \u001b[0;32mdef\u001b[0m \u001b[0mtest_get_roots\u001b[0m\u001b[0;34m(\u001b[0m\u001b[0mroots\u001b[0m\u001b[0;34m,\u001b[0m \u001b[0ma\u001b[0m\u001b[0;34m,\u001b[0m \u001b[0mb\u001b[0m\u001b[0;34m,\u001b[0m \u001b[0mc\u001b[0m\u001b[0;34m)\u001b[0m\u001b[0;34m:\u001b[0m\u001b[0;34m\u001b[0m\u001b[0;34m\u001b[0m\u001b[0m\n\u001b[0;32m----> 3\u001b[0;31m     \u001b[0mroots_\u001b[0m \u001b[0;34m=\u001b[0m \u001b[0mget_roots\u001b[0m\u001b[0;34m(\u001b[0m\u001b[0ma\u001b[0m\u001b[0;34m,\u001b[0m \u001b[0mb\u001b[0m\u001b[0;34m,\u001b[0m \u001b[0mc\u001b[0m\u001b[0;34m)\u001b[0m\u001b[0;34m\u001b[0m\u001b[0;34m\u001b[0m\u001b[0m\n\u001b[0m\u001b[1;32m      4\u001b[0m     \u001b[0;32mif\u001b[0m \u001b[0mroots\u001b[0m \u001b[0;32mis\u001b[0m \u001b[0;32mNone\u001b[0m\u001b[0;34m:\u001b[0m\u001b[0;34m\u001b[0m\u001b[0;34m\u001b[0m\u001b[0m\n\u001b[1;32m      5\u001b[0m         \u001b[0mcorrect\u001b[0m \u001b[0;34m=\u001b[0m \u001b[0mroots_\u001b[0m \u001b[0;32mis\u001b[0m \u001b[0;32mNone\u001b[0m\u001b[0;34m\u001b[0m\u001b[0;34m\u001b[0m\u001b[0m\n",
      "\u001b[0;32m<ipython-input-6-19f6d730d944>\u001b[0m in \u001b[0;36mget_roots\u001b[0;34m(a, b, c)\u001b[0m\n\u001b[1;32m      2\u001b[0m     \u001b[0md\u001b[0m \u001b[0;34m=\u001b[0m \u001b[0mb\u001b[0m\u001b[0;34m**\u001b[0m\u001b[0;36m2\u001b[0m \u001b[0;34m-\u001b[0m \u001b[0;36m4\u001b[0m \u001b[0;34m*\u001b[0m \u001b[0ma\u001b[0m \u001b[0;34m*\u001b[0m \u001b[0mc\u001b[0m\u001b[0;34m\u001b[0m\u001b[0;34m\u001b[0m\u001b[0m\n\u001b[1;32m      3\u001b[0m     \u001b[0;31m# YOUR CODE HERE\u001b[0m\u001b[0;34m\u001b[0m\u001b[0;34m\u001b[0m\u001b[0;34m\u001b[0m\u001b[0m\n\u001b[0;32m----> 4\u001b[0;31m     \u001b[0;32mraise\u001b[0m \u001b[0mNotImplementedError\u001b[0m\u001b[0;34m(\u001b[0m\u001b[0;34m)\u001b[0m\u001b[0;34m\u001b[0m\u001b[0;34m\u001b[0m\u001b[0m\n\u001b[0m\u001b[1;32m      5\u001b[0m     \u001b[0;32mreturn\u001b[0m \u001b[0mroots\u001b[0m\u001b[0;34m\u001b[0m\u001b[0;34m\u001b[0m\u001b[0m\n",
      "\u001b[0;31mNotImplementedError\u001b[0m: "
     ]
    }
   ],
   "source": [
    "# tests\n",
    "def test_get_roots(roots, a, b, c):\n",
    "    roots_ = get_roots(a, b, c)\n",
    "    if roots is None:\n",
    "        correct = roots_ is None\n",
    "    elif isinstance(roots, float):\n",
    "        correct = isinstance(roots_, float) and math.isclose(roots, roots_)\n",
    "    else:\n",
    "        correct = isinstance(roots_, tuple) and len(roots_) == 2 and all([\n",
    "            math.isclose(root, roots_) for root, roots_ in zip(roots, roots_)\n",
    "        ])\n",
    "    if not correct:\n",
    "        print(f'With (a, b, c)={a,b,c}, roots should be {roots} not {roots_}.')\n",
    "    assert correct\n",
    "\n",
    "\n",
    "test_get_roots((-0.0, -1.0), 1, 1, 0)\n",
    "test_get_roots(0.0, 1, 0, 0)\n",
    "test_get_roots((-float('inf'), float('inf')), 0, 0, 0)\n",
    "test_get_roots(None, 0, 0, 1)\n",
    "test_get_roots(0.5, 0, -2, 1)\n",
    "test_get_roots(1.0, 1, -2, 1)"
   ]
  },
  {
   "cell_type": "markdown",
   "metadata": {},
   "source": [
    "## Run the calculator"
   ]
  },
  {
   "cell_type": "markdown",
   "metadata": {},
   "source": [
    "After you have complete the exercises, you can run your robust solver below:"
   ]
  },
  {
   "cell_type": "code",
   "execution_count": 8,
   "metadata": {
    "ExecuteTime": {
     "end_time": "2020-09-28T09:29:23.169558Z",
     "start_time": "2020-09-28T09:29:23.109723Z"
    },
    "code_folding": [],
    "slideshow": {
     "slide_type": "-"
    }
   },
   "outputs": [
    {
     "data": {
      "application/vnd.jupyter.widget-view+json": {
       "model_id": "8273b64e3165404bbe876de8be5d76e6",
       "version_major": 2,
       "version_minor": 0
      },
      "text/plain": [
       "interactive(children=(IntSlider(value=1, description='a', max=10, min=-10), IntSlider(value=2, description='b'…"
      ]
     },
     "metadata": {},
     "output_type": "display_data"
    }
   ],
   "source": [
    "# quadratic equations solver\n",
    "@interact(a=(-10,10,1),b=(-10,10,1),c=(-10,10,1))\n",
    "def quadratic_equation_solver(a=1,b=2,c=1):\n",
    "    print('Root(s):',get_roots(a,b,c))"
   ]
  },
  {
   "cell_type": "code",
   "execution_count": null,
   "metadata": {},
   "outputs": [],
   "source": []
  }
 ],
 "metadata": {
  "kernelspec": {
   "display_name": "Python 3.7",
   "language": "python",
   "name": "python3"
  },
  "language_info": {
   "codemirror_mode": {
    "name": "ipython",
    "version": 3
   },
   "file_extension": ".py",
   "mimetype": "text/x-python",
   "name": "python",
   "nbconvert_exporter": "python",
   "pygments_lexer": "ipython3",
   "version": "3.7.7"
  },
  "latex_envs": {
   "LaTeX_envs_menu_present": true,
   "autoclose": false,
   "autocomplete": true,
   "bibliofile": "biblio.bib",
   "cite_by": "apalike",
   "current_citInitial": 1,
   "eqLabelWithNumbers": true,
   "eqNumInitial": 1,
   "hotkeys": {
    "equation": "Ctrl-E",
    "itemize": "Ctrl-I"
   },
   "labels_anchors": false,
   "latex_user_defs": false,
   "report_style_numbering": false,
   "user_envs_cfg": false
  },
  "rise": {
   "enable_chalkboard": true,
   "scroll": true,
   "theme": "white"
  },
  "toc": {
   "base_numbering": 1,
   "nav_menu": {
    "height": "195px",
    "width": "330px"
   },
   "number_sections": true,
   "sideBar": true,
   "skip_h1_title": true,
   "title_cell": "Table of Contents",
   "title_sidebar": "Contents",
   "toc_cell": false,
   "toc_position": {
    "height": "454.418px",
    "left": "1533px",
    "top": "110.284px",
    "width": "435.327px"
   },
   "toc_section_display": true,
   "toc_window_display": false
  }
 },
 "nbformat": 4,
 "nbformat_minor": 4
}
