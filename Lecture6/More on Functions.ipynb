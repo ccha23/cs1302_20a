{
 "cells": [
  {
   "cell_type": "markdown",
   "metadata": {
    "cell_style": "center",
    "slideshow": {
     "slide_type": "slide"
    }
   },
   "source": [
    "# More on Functions\n",
    "**CS1302 Introduction to Computer Programming**\n",
    "___"
   ]
  },
  {
   "cell_type": "code",
   "execution_count": null,
   "metadata": {
    "ExecuteTime": {
     "end_time": "2020-10-15T12:26:10.815607Z",
     "start_time": "2020-10-15T12:26:10.767226Z"
    },
    "code_folding": [],
    "hide_input": true,
    "init_cell": true,
    "slideshow": {
     "slide_type": "skip"
    }
   },
   "outputs": [],
   "source": [
    "# set up environment\n",
    "%reset -f\n",
    "import sys\n",
    "cs1302_site_packages = '/home/course/cs1302/site-packages'\n",
    "if cs1302_site_packages not in sys.path:\n",
    "    sys.path.append(cs1302_site_packages)\n",
    "%reload_ext mytutor"
   ]
  },
  {
   "cell_type": "code",
   "execution_count": null,
   "metadata": {
    "ExecuteTime": {
     "end_time": "2020-10-15T12:45:55.930526Z",
     "start_time": "2020-10-15T12:45:55.926747Z"
    },
    "hide_input": true,
    "init_cell": true
   },
   "outputs": [],
   "source": [
    "%%javascript\n",
    "let li = document.querySelectorAll(\".text_cell_render li:not(:first-child)\");\n",
    "for (let i=0;i<li.length; i++) {\n",
    "    li[i].classList.add(\"fragment\")\n",
    "}"
   ]
  },
  {
   "cell_type": "markdown",
   "metadata": {
    "slideshow": {
     "slide_type": "slide"
    }
   },
   "source": [
    "## Recursion"
   ]
  },
  {
   "cell_type": "markdown",
   "metadata": {
    "slideshow": {
     "slide_type": "fragment"
    }
   },
   "source": [
    "Consider computing the [Fibonacci number](https://en.wikipedia.org/wiki/Fibonacci_number) of order $n$:\n",
    "$$\n",
    "F_n := \n",
    "\\begin{cases}\n",
    "F_{n-1}+F_{n-2} & n>1 \\kern1em \\text{(recurrence)}\\\\\n",
    "1 & n=1 \\kern1em \\text{(base case)}\\\\\n",
    "0 & n=0 \\kern1em \\text{(base case)}.\n",
    "\\end{cases}$$\n",
    "Fibonacci numbers have practical applications in generating [pseudorandom numbers](https://en.wikipedia.org/wiki/Lagged_Fibonacci_generator)."
   ]
  },
  {
   "cell_type": "markdown",
   "metadata": {
    "slideshow": {
     "slide_type": "subslide"
    }
   },
   "source": [
    "**Can we define the function by calling the function itself?**"
   ]
  },
  {
   "cell_type": "code",
   "execution_count": null,
   "metadata": {
    "ExecuteTime": {
     "end_time": "2020-10-15T13:05:31.908940Z",
     "start_time": "2020-10-15T13:05:31.899668Z"
    },
    "code_folding": [],
    "jupyter": {
     "outputs_hidden": true
    },
    "slideshow": {
     "slide_type": "fragment"
    }
   },
   "outputs": [],
   "source": [
    "%%mytutor -r -h 450\n",
    "def fibonacci(n):\n",
    "    if n > 1:\n",
    "        return fibonacci(n - 1) + fibonacci(n - 2)  # recursion\n",
    "    elif n is 1:\n",
    "        return 1\n",
    "    else:\n",
    "        return 0\n",
    "\n",
    "fibonacci(2)"
   ]
  },
  {
   "cell_type": "markdown",
   "metadata": {
    "slideshow": {
     "slide_type": "fragment"
    }
   },
   "source": [
    "[*Recursion*](https://en.wikipedia.org/wiki/Recursion_(computer_science)) is a function that calls itself (*recurs*)."
   ]
  },
  {
   "cell_type": "markdown",
   "metadata": {
    "slideshow": {
     "slide_type": "subslide"
    }
   },
   "source": [
    "**Exercise** Write a function `gcd` that implements the [Euclidean algorithm for the greatest common divisor](https://en.wikipedia.org/wiki/Euclidean_algorithm): \n",
    "$$\\operatorname{gcd}(a,b)=\\begin{cases}a & b=0\\\\ \\operatorname{gcd}(b, a\\operatorname{mod}b) & \\text{otherwise} \\end{cases}$$"
   ]
  },
  {
   "cell_type": "code",
   "execution_count": null,
   "metadata": {
    "ExecuteTime": {
     "end_time": "2020-10-15T13:05:23.304255Z",
     "start_time": "2020-10-15T13:05:23.298996Z"
    },
    "deletable": false,
    "nbgrader": {
     "cell_type": "code",
     "checksum": "ec4f43be2bfc949b381938650789fbd7",
     "grade": false,
     "grade_id": "gcd",
     "locked": false,
     "schema_version": 3,
     "solution": true,
     "task": false
    },
    "slideshow": {
     "slide_type": "-"
    }
   },
   "outputs": [],
   "source": [
    "%%mytutor -r -h 550\n",
    "def gcd(a, b):\n",
    "    # YOUR CODE HERE\n",
    "    raise NotImplementedError()\n",
    "\n",
    "\n",
    "gcd(3 * 5, 5 * 7)"
   ]
  },
  {
   "cell_type": "markdown",
   "metadata": {
    "slideshow": {
     "slide_type": "subslide"
    }
   },
   "source": [
    "**Is recursion strictly necessary?**  "
   ]
  },
  {
   "cell_type": "markdown",
   "metadata": {
    "slideshow": {
     "slide_type": "fragment"
    }
   },
   "source": [
    "No. We can always convert a recursion to an iteration.  \n",
    "E.g., the following computes the Fibonnacci number of order using a while loop instead."
   ]
  },
  {
   "cell_type": "code",
   "execution_count": null,
   "metadata": {
    "ExecuteTime": {
     "end_time": "2020-10-15T13:05:15.043545Z",
     "start_time": "2020-10-15T13:05:15.032696Z"
    },
    "slideshow": {
     "slide_type": "-"
    }
   },
   "outputs": [],
   "source": [
    "%%mytutor -r -h 550\n",
    "def fibonacci_iteration(n):\n",
    "    if n > 1:\n",
    "        _, F = 0, 1  # next two Fibonacci numbers\n",
    "        while n > 1:\n",
    "            _, F, n = F, F + _, n - 1\n",
    "        return F\n",
    "    elif n is 1:\n",
    "        return 1\n",
    "    else:\n",
    "        return 0\n",
    "    \n",
    "fibonacci_iteration(3)"
   ]
  },
  {
   "cell_type": "code",
   "execution_count": null,
   "metadata": {},
   "outputs": [],
   "source": [
    "# more tests\n",
    "for n in range(5):\n",
    "    assert fibonacci(n) == fibonacci_iteration(n)"
   ]
  },
  {
   "cell_type": "markdown",
   "metadata": {
    "slideshow": {
     "slide_type": "fragment"
    }
   },
   "source": [
    "**Exercise** Implement `gcd_iteration` using a while loop instead of a recursion."
   ]
  },
  {
   "cell_type": "code",
   "execution_count": null,
   "metadata": {
    "ExecuteTime": {
     "end_time": "2020-10-15T13:05:03.950059Z",
     "start_time": "2020-10-15T13:05:03.943396Z"
    },
    "code_folding": [],
    "deletable": false,
    "nbgrader": {
     "cell_type": "code",
     "checksum": "fc3821267797bd414aba328661086269",
     "grade": false,
     "grade_id": "gcd_iteration",
     "locked": false,
     "schema_version": 3,
     "solution": true,
     "task": false
    },
    "slideshow": {
     "slide_type": "-"
    }
   },
   "outputs": [],
   "source": [
    "%%mytutor -r -h 550\n",
    "def gcd_iteration(a, b):\n",
    "    # YOUR CODE HERE\n",
    "    raise NotImplementedError()\n",
    "\n",
    "\n",
    "gcd_iteration(3 * 5, 5 * 7)"
   ]
  },
  {
   "cell_type": "code",
   "execution_count": null,
   "metadata": {
    "ExecuteTime": {
     "end_time": "2020-10-10T15:58:44.683701Z",
     "start_time": "2020-10-10T15:58:44.681097Z"
    },
    "jupyter": {
     "outputs_hidden": true
    },
    "slideshow": {
     "slide_type": "fragment"
    }
   },
   "outputs": [],
   "source": [
    "# test\n",
    "for n in range(5):\n",
    "    assert fibonacci(n) == fibonacci_iteration(n)"
   ]
  },
  {
   "cell_type": "markdown",
   "metadata": {
    "slideshow": {
     "slide_type": "subslide"
    }
   },
   "source": [
    "**What is the benefit of recursion?**"
   ]
  },
  {
   "cell_type": "markdown",
   "metadata": {
    "slideshow": {
     "slide_type": "fragment"
    }
   },
   "source": [
    "- Recursion is often shorter and easier to understand.\n",
    "- It is also easier to write code by *wishful thinking* or *[declarative programming](https://en.wikipedia.org/wiki/Declarative_programming)*."
   ]
  },
  {
   "cell_type": "markdown",
   "metadata": {
    "slideshow": {
     "slide_type": "slide"
    }
   },
   "source": [
    "**Is recusion more efficient than iteration?**"
   ]
  },
  {
   "cell_type": "markdown",
   "metadata": {
    "slideshow": {
     "slide_type": "fragment"
    }
   },
   "source": [
    "**Exercise** Find the smallest values of `n` for`fibonacci(n)` and `fibonacci_iteration(n)` respectively to run for more than a second."
   ]
  },
  {
   "cell_type": "code",
   "execution_count": null,
   "metadata": {
    "ExecuteTime": {
     "end_time": "2020-10-15T13:08:08.453575Z",
     "start_time": "2020-10-15T13:08:07.445702Z"
    },
    "deletable": false,
    "jupyter": {
     "outputs_hidden": true
    },
    "nbgrader": {
     "cell_type": "code",
     "checksum": "47118dd888b86b812797a7d047fa5545",
     "grade": false,
     "grade_id": "fib_recursion",
     "locked": false,
     "schema_version": 3,
     "solution": true,
     "task": false
    },
    "slideshow": {
     "slide_type": "fragment"
    }
   },
   "outputs": [],
   "source": [
    "# Assign n\n",
    "# YOUR CODE HERE\n",
    "raise NotImplementedError()\n",
    "fib_recursion = fibonacci(n)"
   ]
  },
  {
   "cell_type": "code",
   "execution_count": null,
   "metadata": {
    "ExecuteTime": {
     "end_time": "2020-09-24T03:47:26.765148Z",
     "start_time": "2020-09-24T03:47:25.661105Z"
    },
    "deletable": false,
    "jupyter": {
     "outputs_hidden": true
    },
    "nbgrader": {
     "cell_type": "code",
     "checksum": "54ed2d0d31c32682d0e4535517dc34a7",
     "grade": false,
     "grade_id": "fib_iteration",
     "locked": false,
     "schema_version": 3,
     "solution": true,
     "task": false
    },
    "slideshow": {
     "slide_type": "fragment"
    }
   },
   "outputs": [],
   "source": [
    "# Assign n\n",
    "# YOUR CODE HERE\n",
    "raise NotImplementedError()\n",
    "fib_iteration = fibonacci_iteration(n)"
   ]
  },
  {
   "cell_type": "markdown",
   "metadata": {
    "slideshow": {
     "slide_type": "subslide"
    }
   },
   "source": [
    "To see why recursion is slow, we will modify `fibonacci` to print each function call as follows."
   ]
  },
  {
   "cell_type": "code",
   "execution_count": null,
   "metadata": {
    "ExecuteTime": {
     "end_time": "2020-10-15T15:16:46.593144Z",
     "start_time": "2020-10-15T15:16:46.582197Z"
    },
    "jupyter": {
     "outputs_hidden": true
    },
    "slideshow": {
     "slide_type": "-"
    }
   },
   "outputs": [],
   "source": [
    "def fibonacci(n):\n",
    "    '''Returns the Fibonacci number of order n.'''\n",
    "    print('fibonacci({!r})'.format(n))\n",
    "    return fibonacci(n - 1) + fibonacci(n - 2) if n > 1 else 1 if n is 1 else 0\n",
    "\n",
    "\n",
    "fibonacci(5)"
   ]
  },
  {
   "cell_type": "markdown",
   "metadata": {
    "slideshow": {
     "slide_type": "fragment"
    }
   },
   "source": [
    "`fibonacci(5)` calls `fibonacci(3)` and `fibonacci(4)`, which in turn call `fibonacci(2)` and `fibonacci(3)`. `fibonacci(3)` is called twice."
   ]
  },
  {
   "cell_type": "markdown",
   "metadata": {
    "slideshow": {
     "slide_type": "slide"
    }
   },
   "source": [
    "## Global Variables"
   ]
  },
  {
   "cell_type": "markdown",
   "metadata": {
    "slideshow": {
     "slide_type": "fragment"
    }
   },
   "source": [
    "Consider the problem of generating a sequence of Fibonacci numbers."
   ]
  },
  {
   "cell_type": "code",
   "execution_count": null,
   "metadata": {
    "ExecuteTime": {
     "end_time": "2020-10-10T15:48:35.886472Z",
     "start_time": "2020-10-10T15:48:35.880142Z"
    },
    "slideshow": {
     "slide_type": "-"
    }
   },
   "outputs": [],
   "source": [
    "for n in range(5):\n",
    "    print(fibonacci_iteration(n))"
   ]
  },
  {
   "cell_type": "markdown",
   "metadata": {
    "slideshow": {
     "slide_type": "fragment"
    }
   },
   "source": [
    "**Is the above loop efficient?**"
   ]
  },
  {
   "cell_type": "markdown",
   "metadata": {
    "slideshow": {
     "slide_type": "fragment"
    }
   },
   "source": [
    "No. Each call to `fibonacci_iteration(n)` recomputes the last two Fibonacci numbers $F_{n-1}$ and $F_{n-2}$ for $n\\geq 2$."
   ]
  },
  {
   "cell_type": "markdown",
   "metadata": {
    "slideshow": {
     "slide_type": "fragment"
    }
   },
   "source": [
    "**How to avoid redundant computations?**"
   ]
  },
  {
   "cell_type": "markdown",
   "metadata": {
    "slideshow": {
     "slide_type": "fragment"
    }
   },
   "source": [
    "One way is to store the last two computed Fibonacci numbers."
   ]
  },
  {
   "cell_type": "code",
   "execution_count": null,
   "metadata": {
    "ExecuteTime": {
     "end_time": "2020-10-15T13:30:50.297570Z",
     "start_time": "2020-10-15T13:30:50.290573Z"
    },
    "code_folding": [],
    "jupyter": {
     "outputs_hidden": true
    },
    "slideshow": {
     "slide_type": "-"
    }
   },
   "outputs": [],
   "source": [
    "%%mytutor -h 600\n",
    "def next_fibonacci():\n",
    "    '''Returns the next Fibonacci number.'''\n",
    "    global _Fn, _Fn1, _n  # global declaration\n",
    "    value = _Fn\n",
    "    _Fn, _Fn1, _n = _Fn1, _Fn + _Fn1, _n + 1\n",
    "    return value\n",
    "\n",
    "def print_fibonacci_state():\n",
    "    print('''States:\n",
    "    _Fn  : Next Fibonacci number      = {}\n",
    "    _Fn1 : Next next Fibonacci number = {}\n",
    "    _n   : Next order                 = {}'''.format(_Fn,_Fn1,_n))\n",
    "\n",
    "# global variables for next_fibonacci and print_fibonacci_state\n",
    "_Fn, _Fn1, _n = 0, 1, 0\n",
    "\n",
    "for n in range(5):\n",
    "    print(next_fibonacci())\n",
    "print_fibonacci_state()"
   ]
  },
  {
   "cell_type": "markdown",
   "metadata": {
    "slideshow": {
     "slide_type": "fragment"
    }
   },
   "source": [
    "Rules for [*global/local variables*](https://docs.python.org/3/faq/programming.html#what-are-the-rules-for-local-and-global-variables-in-python):\n",
    "1. A local variable must be defined within a function.\n",
    "1. An assignment defines a local variable except in a [`global` statement](https://docs.python.org/3/reference/simple_stmts.html#the-global-statement)."
   ]
  },
  {
   "cell_type": "markdown",
   "metadata": {
    "slideshow": {
     "slide_type": "fragment"
    }
   },
   "source": [
    "**Why `global` is NOT needed in `print_fibonacci_state`?**"
   ]
  },
  {
   "cell_type": "markdown",
   "metadata": {
    "slideshow": {
     "slide_type": "fragment"
    }
   },
   "source": [
    "Without ambiguity, `_Fn, _Fn1, _n` in `print_fibonacci_state` are not local variables by Rule 1 because they are not defined within the function."
   ]
  },
  {
   "cell_type": "markdown",
   "metadata": {
    "slideshow": {
     "slide_type": "fragment"
    }
   },
   "source": [
    "**Why `global` is needed in `next_fibonacci`?**"
   ]
  },
  {
   "cell_type": "markdown",
   "metadata": {
    "slideshow": {
     "slide_type": "fragment"
    }
   },
   "source": [
    "What happens otherwise:"
   ]
  },
  {
   "cell_type": "code",
   "execution_count": null,
   "metadata": {
    "ExecuteTime": {
     "end_time": "2020-10-15T13:27:18.122977Z",
     "start_time": "2020-10-15T13:27:18.110115Z"
    },
    "jupyter": {
     "outputs_hidden": true
    },
    "slideshow": {
     "slide_type": "-"
    }
   },
   "outputs": [],
   "source": [
    "def next_fibonacci():\n",
    "    '''Returns the next Fibonacci number.'''\n",
    "    # global _Fn, _Fn1, _n\n",
    "    value = _Fn\n",
    "    _Fn, _Fn1, _n = _Fn1, _Fn + _Fn1, _n + 1\n",
    "    return value\n",
    "\n",
    "next_fibonacci()"
   ]
  },
  {
   "cell_type": "markdown",
   "metadata": {
    "slideshow": {
     "slide_type": "fragment"
    }
   },
   "source": [
    "Why is there an `UnboundLocalError`?"
   ]
  },
  {
   "cell_type": "markdown",
   "metadata": {
    "slideshow": {
     "slide_type": "fragment"
    }
   },
   "source": [
    "- The assignment defines `_Fn` as a local variable by Rule 2.  \n",
    "- However, the assignment requires first evaluating `_Fn`, which is not yet defined."
   ]
  },
  {
   "cell_type": "markdown",
   "metadata": {
    "slideshow": {
     "slide_type": "subslide"
    }
   },
   "source": [
    "**Are global variables preferred over local ones?**"
   ]
  },
  {
   "cell_type": "markdown",
   "metadata": {},
   "source": [
    "Suppose for aesthetic reasons we remove the underscores in global variable names?"
   ]
  },
  {
   "cell_type": "code",
   "execution_count": null,
   "metadata": {
    "ExecuteTime": {
     "end_time": "2020-10-15T13:30:22.096651Z",
     "start_time": "2020-10-15T13:30:22.092063Z"
    },
    "code_folding": [],
    "jupyter": {
     "outputs_hidden": true
    }
   },
   "outputs": [],
   "source": [
    "%%mytutor -h 600\n",
    "def next_fibonacci():\n",
    "    '''Returns the next Fibonacci number.'''\n",
    "    global Fn, Fn1, n\n",
    "    value = Fn\n",
    "    Fn, Fn1, n = Fn1, Fn + Fn1, n + 1\n",
    "    return value\n",
    "\n",
    "def print_fibonacci_state():\n",
    "    print('''States:\n",
    "    Fn  : Next Fibonacci number      = {}\n",
    "    Fn1 : Next next Fibonacci number = {}\n",
    "    n   : Next order                 = {}'''.format(Fn,Fn1,n))\n",
    "\n",
    "# global variables renamed without underscores\n",
    "Fn, Fn1, n = 0, 1, 0\n",
    "\n",
    "n = 0\n",
    "while n < 5:\n",
    "    print(next_fibonacci())\n",
    "    n += 1\n",
    "print_fibonacci_state()"
   ]
  },
  {
   "cell_type": "markdown",
   "metadata": {
    "slideshow": {
     "slide_type": "fragment"
    }
   },
   "source": [
    "**Exercise** Why does the while loop prints only 3 instead of 5 Fibonacci numbers?"
   ]
  },
  {
   "cell_type": "markdown",
   "metadata": {
    "deletable": false,
    "nbgrader": {
     "cell_type": "markdown",
     "checksum": "db30dee19cf16202ccc23ee7c038da57",
     "grade": true,
     "grade_id": "global_bug",
     "locked": false,
     "points": 0,
     "schema_version": 3,
     "solution": true,
     "task": false
    },
    "slideshow": {
     "slide_type": "-"
    }
   },
   "source": [
    "YOUR ANSWER HERE"
   ]
  },
  {
   "cell_type": "markdown",
   "metadata": {
    "slideshow": {
     "slide_type": "fragment"
    }
   },
   "source": [
    "With global variables\n",
    "- codes are less predictable, more difficult to reuse/extend, and\n",
    "- tests cannot be isolated, making debugging difficult."
   ]
  },
  {
   "cell_type": "markdown",
   "metadata": {
    "slideshow": {
     "slide_type": "subslide"
    }
   },
   "source": [
    "**Is it possible to store the function states without using global variables?**"
   ]
  },
  {
   "cell_type": "markdown",
   "metadata": {
    "slideshow": {
     "slide_type": "fragment"
    }
   },
   "source": [
    "Yes. We can use nested functions and [`nonlocal` variables](https://docs.python.org/3/reference/simple_stmts.html#grammar-token-nonlocal-stmt)."
   ]
  },
  {
   "cell_type": "code",
   "execution_count": null,
   "metadata": {
    "ExecuteTime": {
     "end_time": "2020-10-15T13:32:52.121481Z",
     "start_time": "2020-10-15T13:32:52.113270Z"
    },
    "code_folding": [],
    "jupyter": {
     "outputs_hidden": true
    },
    "slideshow": {
     "slide_type": "-"
    }
   },
   "outputs": [],
   "source": [
    "def fibonacci_closure(Fn, Fn1):\n",
    "    def next_fibonacci():\n",
    "        '''Returns the next (generalized) Fibonacci number starting with \n",
    "        Fn and Fn1 as the first two numbers.'''\n",
    "        nonlocal Fn, Fn1, n  # declare nonlocal variables\n",
    "        value = Fn\n",
    "        Fn, Fn1, n = Fn1, Fn + Fn1, n + 1\n",
    "        return value\n",
    "\n",
    "    def print_fibonacci_state():\n",
    "        print('''States:\n",
    "        Next Fibonacci number      = {}\n",
    "        Next next Fibonacci number = {}\n",
    "        Next order                 = {}'''.format(Fn, Fn1, n))\n",
    "\n",
    "    n = 0  # Fn and Fn1 specified in the function arguments\n",
    "    return next_fibonacci, print_fibonacci_state\n",
    "\n",
    "\n",
    "next_fibonacci, print_fibonacci_state = fibonacci_closure(0, 1)\n",
    "n = 0\n",
    "while n < 5:\n",
    "    print(next_fibonacci())\n",
    "    n += 1\n",
    "print_fibonacci_state()"
   ]
  },
  {
   "cell_type": "markdown",
   "metadata": {
    "slideshow": {
     "slide_type": "fragment"
    }
   },
   "source": [
    "The state variables `Fn, Fn1, n` are now *encapsulated*, and so    \n",
    "the functions returned by `fibonacci_closure` no longer depends on any global variables."
   ]
  },
  {
   "cell_type": "markdown",
   "metadata": {
    "slideshow": {
     "slide_type": "subslide"
    }
   },
   "source": [
    "Another benefit of using nested functions is that we can also create different Fibonacci sequence with different base cases."
   ]
  },
  {
   "cell_type": "code",
   "execution_count": null,
   "metadata": {
    "ExecuteTime": {
     "end_time": "2020-10-15T13:34:39.508905Z",
     "start_time": "2020-10-15T13:34:39.505215Z"
    },
    "jupyter": {
     "outputs_hidden": true
    },
    "slideshow": {
     "slide_type": "-"
    }
   },
   "outputs": [],
   "source": [
    "my_next_fibonacci, my_print_fibonacci_state = fibonacci_closure('cs', '1302')\n",
    "for n in range(5):\n",
    "    print(my_next_fibonacci())\n",
    "my_print_fibonacci_state()"
   ]
  },
  {
   "cell_type": "markdown",
   "metadata": {
    "slideshow": {
     "slide_type": "fragment"
    }
   },
   "source": [
    "`next_fibonacci` and `print_fibonacci_state` are *local functions* of `fibonacci_closure`.  \n",
    "- They can access (*capture*) the other local variables of `fibonacci_closure` by forming the so-called *closures*.\n",
    "- Similar to the use of `global` statement, a [`non-local` statement](https://docs.python.org/3/reference/simple_stmts.html#the-nonlocal-statement) is needed for assigning nonlocal variables."
   ]
  },
  {
   "cell_type": "markdown",
   "metadata": {
    "slideshow": {
     "slide_type": "fragment"
    }
   },
   "source": [
    "Each local function has an attribute named `__closure__` that stores the captured local variables."
   ]
  },
  {
   "cell_type": "code",
   "execution_count": null,
   "metadata": {
    "ExecuteTime": {
     "end_time": "2020-10-15T13:36:23.030200Z",
     "start_time": "2020-10-15T13:36:23.023799Z"
    },
    "jupyter": {
     "outputs_hidden": true
    },
    "slideshow": {
     "slide_type": "-"
    }
   },
   "outputs": [],
   "source": [
    "def print_closure(f):\n",
    "    '''Print the closure of a function.'''\n",
    "    print('closure of ', f.__name__)\n",
    "    for cell in f.__closure__:\n",
    "        print('    {} content: {!r}'.format(cell, cell.cell_contents))\n",
    "\n",
    "\n",
    "print_closure(next_fibonacci)\n",
    "print_closure(print_fibonacci_state)"
   ]
  },
  {
   "cell_type": "markdown",
   "metadata": {
    "slideshow": {
     "slide_type": "slide"
    }
   },
   "source": [
    "## Generator"
   ]
  },
  {
   "cell_type": "markdown",
   "metadata": {
    "slideshow": {
     "slide_type": "fragment"
    }
   },
   "source": [
    "Another way to generate a sequence of objects one-by-one is to write a *generator*."
   ]
  },
  {
   "cell_type": "code",
   "execution_count": null,
   "metadata": {
    "ExecuteTime": {
     "end_time": "2020-10-15T13:40:10.882414Z",
     "start_time": "2020-10-15T13:40:10.878555Z"
    },
    "code_folding": [],
    "jupyter": {
     "outputs_hidden": true
    },
    "slideshow": {
     "slide_type": "-"
    }
   },
   "outputs": [],
   "source": [
    "fibonacci_generator = (fibonacci_iteration(n) for n in range(3))\n",
    "fibonacci_generator"
   ]
  },
  {
   "cell_type": "markdown",
   "metadata": {
    "slideshow": {
     "slide_type": "fragment"
    }
   },
   "source": [
    "The above uses a [*generator expression*](https://docs.python.org/3/reference/expressions.html#grammar-token-generator-expression) to define `fibonacci_generator`."
   ]
  },
  {
   "cell_type": "markdown",
   "metadata": {
    "slideshow": {
     "slide_type": "subslide"
    }
   },
   "source": [
    "**How to obtain items from a generator?**"
   ]
  },
  {
   "cell_type": "markdown",
   "metadata": {
    "slideshow": {
     "slide_type": "fragment"
    }
   },
   "source": [
    "We can use the [`next` function](https://docs.python.org/3/library/functions.html#next)."
   ]
  },
  {
   "cell_type": "code",
   "execution_count": null,
   "metadata": {
    "ExecuteTime": {
     "end_time": "2020-10-10T15:18:41.207942Z",
     "start_time": "2020-10-10T15:18:41.200562Z"
    },
    "slideshow": {
     "slide_type": "-"
    }
   },
   "outputs": [],
   "source": [
    "while True: \n",
    "    print(next(fibonacci_generator)) # raises StopIterationException eventually"
   ]
  },
  {
   "cell_type": "markdown",
   "metadata": {
    "slideshow": {
     "slide_type": "fragment"
    }
   },
   "source": [
    "A generator object is [*iterable*](https://www.programiz.com/python-programming/iterator), i.e., it implements both `__iter__` and `__next__` methods that are automatically called in a `for` loop as well as the `next` function."
   ]
  },
  {
   "cell_type": "code",
   "execution_count": null,
   "metadata": {
    "ExecuteTime": {
     "end_time": "2020-10-15T13:58:57.776355Z",
     "start_time": "2020-10-15T13:58:57.773097Z"
    },
    "slideshow": {
     "slide_type": "-"
    }
   },
   "outputs": [],
   "source": [
    "fibonacci_generator = (fibonacci_iteration(n) for n in range(5))\n",
    "for fib in fibonacci_generator:  # StopIterationException handled by for loop\n",
    "    print(fib)"
   ]
  },
  {
   "cell_type": "markdown",
   "metadata": {
    "slideshow": {
     "slide_type": "subslide"
    }
   },
   "source": [
    "**Is `fibonacci_generator` efficient?**"
   ]
  },
  {
   "cell_type": "markdown",
   "metadata": {
    "slideshow": {
     "slide_type": "subslide"
    }
   },
   "source": [
    "No again due to redundant computations.  \n",
    "A better way to define the generator is to use the keyword [`yield`](https://docs.python.org/3/reference/expressions.html?highlight=yield#yield-expressions):"
   ]
  },
  {
   "cell_type": "code",
   "execution_count": null,
   "metadata": {
    "ExecuteTime": {
     "end_time": "2020-10-15T14:05:36.822569Z",
     "start_time": "2020-10-15T14:05:36.816077Z"
    },
    "jupyter": {
     "outputs_hidden": true
    }
   },
   "outputs": [],
   "source": [
    "%%mytutor -h 450\n",
    "def fibonacci_sequence(Fn, Fn1, stop):\n",
    "    '''Return a generator that generates Fibonacci numbers\n",
    "    starting from Fn and Fn1 until stop (exclusive).'''\n",
    "    while Fn < stop:\n",
    "        yield Fn  # return Fn and pause execution\n",
    "        Fn, Fn1 = Fn1, Fn1 + Fn\n",
    "\n",
    "\n",
    "for fib in fibonacci_sequence(0, 1, 5):\n",
    "    print(fib)"
   ]
  },
  {
   "cell_type": "markdown",
   "metadata": {
    "slideshow": {
     "slide_type": "fragment"
    }
   },
   "source": [
    "1. `yield` causes the function to return a *generator* without executing the function body.\n",
    "1. Calling `__next__` resumes the execution, which \n",
    "    - pauses at the next `yield` expression, or\n",
    "    - raises the `StopIterationException` at the end."
   ]
  },
  {
   "cell_type": "markdown",
   "metadata": {
    "slideshow": {
     "slide_type": "fragment"
    }
   },
   "source": [
    "**Exercise** The yield expression `yield ...` is mistaken in [Halterman17] to be a statement. It is actually an expression because \n",
    "- The value of a `yield` expression is `None` by default, but \n",
    "- it can be set by the `generator.send` method.\n",
    "\n",
    "Add the document string to the following function. In particular, explain the effect of calling the method `send` on the returned generator."
   ]
  },
  {
   "cell_type": "code",
   "execution_count": null,
   "metadata": {
    "ExecuteTime": {
     "end_time": "2020-10-15T14:41:44.554637Z",
     "start_time": "2020-10-15T14:41:44.548372Z"
    },
    "code_folding": [],
    "deletable": false,
    "jupyter": {
     "outputs_hidden": true
    },
    "nbgrader": {
     "cell_type": "code",
     "checksum": "59b937e45ea23fed98adabb59cc46f56",
     "grade": false,
     "grade_id": "send",
     "locked": false,
     "schema_version": 3,
     "solution": true,
     "task": false
    },
    "slideshow": {
     "slide_type": "-"
    }
   },
   "outputs": [],
   "source": [
    "%%mytutor -r -h 500\n",
    "def fibonacci_sequence(Fn, Fn1, stop):\n",
    "    # YOUR CODE HERE\n",
    "    raise NotImplementedError()\n",
    "    while Fn < stop:\n",
    "        value = yield Fn\n",
    "        if value is not None: \n",
    "            Fn1 = value  # set next number to the value of yield expression\n",
    "        Fn, Fn1 = Fn1, Fn1 + Fn "
   ]
  },
  {
   "cell_type": "markdown",
   "metadata": {
    "slideshow": {
     "slide_type": "slide"
    }
   },
   "source": [
    "## Optional Arguments"
   ]
  },
  {
   "cell_type": "markdown",
   "metadata": {},
   "source": [
    "**How to make function arguments optional?**"
   ]
  },
  {
   "cell_type": "code",
   "execution_count": null,
   "metadata": {
    "ExecuteTime": {
     "end_time": "2020-10-15T14:55:01.294657Z",
     "start_time": "2020-10-15T14:55:01.288696Z"
    }
   },
   "outputs": [],
   "source": [
    "def fibonacci_sequence(Fn=0, Fn1=1, stop=None):\n",
    "    while stop is None or Fn < stop:\n",
    "        value = yield Fn\n",
    "        Fn, Fn1 = Fn1, Fn1 + Fn"
   ]
  },
  {
   "cell_type": "code",
   "execution_count": null,
   "metadata": {
    "ExecuteTime": {
     "end_time": "2020-10-15T14:57:57.172174Z",
     "start_time": "2020-10-15T14:57:57.167507Z"
    }
   },
   "outputs": [],
   "source": [
    "for fib in fibonacci_sequence(0,1,5):\n",
    "    print(fib)  # with all arguments specified"
   ]
  },
  {
   "cell_type": "code",
   "execution_count": null,
   "metadata": {
    "ExecuteTime": {
     "end_time": "2020-10-15T14:55:39.827146Z",
     "start_time": "2020-10-15T14:55:39.822506Z"
    }
   },
   "outputs": [],
   "source": [
    "for fib in fibonacci_sequence(stop=5):\n",
    "    print(fib)  # with default Fn=0, Fn1=1"
   ]
  },
  {
   "cell_type": "markdown",
   "metadata": {
    "slideshow": {
     "slide_type": "fragment"
    }
   },
   "source": [
    "`stop=5` is called a [keyword argument](https://docs.python.org/3/glossary.html#term-keyword-argument). Unlike `positional arguments`, it specifies the name of the argument explicitly."
   ]
  },
  {
   "cell_type": "markdown",
   "metadata": {
    "slideshow": {
     "slide_type": "fragment"
    }
   },
   "source": [
    "**Exercise** `stop` is an [optional argument](https://docs.python.org/3/tutorial/controlflow.html#default-argument-values) with the *default value* `None`. What is the behavior of the following code?"
   ]
  },
  {
   "cell_type": "code",
   "execution_count": null,
   "metadata": {
    "ExecuteTime": {
     "end_time": "2020-10-15T15:03:43.733491Z",
     "start_time": "2020-10-15T15:03:43.729962Z"
    },
    "slideshow": {
     "slide_type": "-"
    }
   },
   "outputs": [],
   "source": [
    "for fib in fibonacci_sequence(5):\n",
    "    print(fib)\n",
    "    if fib > 10:  \n",
    "        break  # Will this be executed?"
   ]
  },
  {
   "cell_type": "markdown",
   "metadata": {
    "deletable": false,
    "nbgrader": {
     "cell_type": "markdown",
     "checksum": "a090f88c9eb74ece1027e9d598d81560",
     "grade": true,
     "grade_id": "stop",
     "locked": false,
     "points": 0,
     "schema_version": 3,
     "solution": true,
     "task": false
    },
    "slideshow": {
     "slide_type": "-"
    }
   },
   "source": [
    "YOUR ANSWER HERE"
   ]
  },
  {
   "cell_type": "markdown",
   "metadata": {
    "slideshow": {
     "slide_type": "subslide"
    }
   },
   "source": [
    "Rules for specifying arguments:\n",
    "1. Keyword arguments must be after all positional arguments.\n",
    "1. Duplicate assignments to an argument are not allowed."
   ]
  },
  {
   "cell_type": "markdown",
   "metadata": {
    "slideshow": {
     "slide_type": "fragment"
    }
   },
   "source": [
    "E.g., the following results in error:"
   ]
  },
  {
   "cell_type": "code",
   "execution_count": null,
   "metadata": {
    "ExecuteTime": {
     "end_time": "2020-10-15T15:07:48.612298Z",
     "start_time": "2020-10-15T15:07:48.608063Z"
    },
    "slideshow": {
     "slide_type": "-"
    }
   },
   "outputs": [],
   "source": [
    "fibonacci_sequence(stop=10, 1)"
   ]
  },
  {
   "cell_type": "code",
   "execution_count": null,
   "metadata": {
    "ExecuteTime": {
     "end_time": "2020-10-15T15:07:51.351765Z",
     "start_time": "2020-10-15T15:07:51.345798Z"
    },
    "slideshow": {
     "slide_type": "-"
    }
   },
   "outputs": [],
   "source": [
    "fibonacci_sequence(1, Fn=1)"
   ]
  },
  {
   "cell_type": "markdown",
   "metadata": {
    "slideshow": {
     "slide_type": "subslide"
    }
   },
   "source": [
    "The following shows that the behavior of `range` is different."
   ]
  },
  {
   "cell_type": "code",
   "execution_count": null,
   "metadata": {
    "ExecuteTime": {
     "end_time": "2020-10-15T15:08:02.452751Z",
     "start_time": "2020-10-15T15:08:02.419437Z"
    },
    "slideshow": {
     "slide_type": "fragment"
    }
   },
   "outputs": [],
   "source": [
    "for count in range(1, 10, 2):\n",
    "    print(count, end=' ')  # counts from 1 to 10 in steps of 2\n",
    "print()\n",
    "for count in range(1, 10):\n",
    "    print(count, end=' ')  # default step=1\n",
    "print()\n",
    "for count in range(10):\n",
    "    print(count, end=' ')  # default start=0, step=1\n",
    "range(stop=10)  # fails"
   ]
  },
  {
   "cell_type": "markdown",
   "metadata": {
    "slideshow": {
     "slide_type": "fragment"
    }
   },
   "source": [
    "`range` takes only positional arguments.  \n",
    "However, the first positional argument has different intepretations (`start` or `stop`) depending on the number of arguments (2 or 1)."
   ]
  },
  {
   "cell_type": "markdown",
   "metadata": {
    "slideshow": {
     "slide_type": "fragment"
    }
   },
   "source": [
    "`range` is indeed NOT a generator."
   ]
  },
  {
   "cell_type": "code",
   "execution_count": null,
   "metadata": {
    "ExecuteTime": {
     "end_time": "2020-09-24T04:07:35.699737Z",
     "start_time": "2020-09-24T04:07:35.694195Z"
    },
    "jupyter": {
     "outputs_hidden": true
    },
    "slideshow": {
     "slide_type": "fragment"
    }
   },
   "outputs": [],
   "source": [
    "print(type(range),type(range(10)))"
   ]
  },
  {
   "cell_type": "markdown",
   "metadata": {
    "slideshow": {
     "slide_type": "subslide"
    }
   },
   "source": [
    "## Variable number of arguments"
   ]
  },
  {
   "cell_type": "markdown",
   "metadata": {
    "slideshow": {
     "slide_type": "fragment"
    }
   },
   "source": [
    "We can simulate the behavior of range by having a [variable number of arguments](https://docs.python.org/3.4/tutorial/controlflow.html#arbitrary-argument-lists)."
   ]
  },
  {
   "cell_type": "code",
   "execution_count": null,
   "metadata": {
    "ExecuteTime": {
     "end_time": "2020-10-15T15:09:39.004102Z",
     "start_time": "2020-10-15T15:09:38.996346Z"
    },
    "slideshow": {
     "slide_type": "fragment"
    }
   },
   "outputs": [],
   "source": [
    "def print_arguments(*args, **kwargs):\n",
    "    '''Take any number of arguments and prints them'''\n",
    "    print('args ({}): {}'.format(type(args),args))\n",
    "    print('kwargs ({}): {}'.format(type(kwargs),kwargs))\n",
    "\n",
    "print_arguments(0, 10, 2, start=1, stop=2)\n",
    "print(\"{k}\".format(greeting=\"Hello\",k=8),\"*\"  )"
   ]
  },
  {
   "cell_type": "markdown",
   "metadata": {
    "slideshow": {
     "slide_type": "fragment"
    }
   },
   "source": [
    "- `args` is a tuple of positional arguments.\n",
    "- `kwargs` is a dictionary of keyword arguments."
   ]
  },
  {
   "cell_type": "markdown",
   "metadata": {
    "slideshow": {
     "slide_type": "fragment"
    }
   },
   "source": [
    "`*` and `**` are *unpacking operators* for tuple/list and dictionary respectively:"
   ]
  },
  {
   "cell_type": "code",
   "execution_count": null,
   "metadata": {
    "ExecuteTime": {
     "end_time": "2020-09-24T04:08:18.935653Z",
     "start_time": "2020-09-24T04:08:18.927560Z"
    },
    "slideshow": {
     "slide_type": "fragment"
    }
   },
   "outputs": [],
   "source": [
    "args = (0, 10, 2)\n",
    "kwargs = {'start': 1, 'stop': 2}\n",
    "print_arguments(*args, **kwargs)"
   ]
  },
  {
   "cell_type": "markdown",
   "metadata": {},
   "source": [
    "The following function converts all the arguments to a string.  \n",
    "It will be useful later on."
   ]
  },
  {
   "cell_type": "code",
   "execution_count": null,
   "metadata": {
    "ExecuteTime": {
     "end_time": "2020-10-15T15:10:08.568756Z",
     "start_time": "2020-10-15T15:10:08.540906Z"
    },
    "slideshow": {
     "slide_type": "fragment"
    }
   },
   "outputs": [],
   "source": [
    "def argument_string(*args, **kwargs):\n",
    "    '''Return the string representation of the list of arguments.'''\n",
    "    return '({})'.format(', '.join([\n",
    "        *['{}'.format(v) for v in args],  # arguments\n",
    "        *['{}={}'.format(k, v)\n",
    "          for k, v in kwargs.items()]  # keyword arguments\n",
    "    ]))\n",
    "\n",
    "argument_string(0, 10, 2, start=1, stop=2)"
   ]
  },
  {
   "cell_type": "markdown",
   "metadata": {
    "slideshow": {
     "slide_type": "subslide"
    }
   },
   "source": [
    "**Exercise** Redefine `fibonacci_sequence` so that the positional arguments depend on the number of arguments:"
   ]
  },
  {
   "cell_type": "code",
   "execution_count": null,
   "metadata": {
    "ExecuteTime": {
     "end_time": "2020-10-15T15:11:12.855961Z",
     "start_time": "2020-10-15T15:11:12.849596Z"
    },
    "code_folding": [
     19
    ],
    "deletable": false,
    "nbgrader": {
     "cell_type": "code",
     "checksum": "a59d5bab4c1f2229305fd8ab8189ce57",
     "grade": false,
     "grade_id": "optional",
     "locked": false,
     "schema_version": 3,
     "solution": true,
     "task": false
    },
    "slideshow": {
     "slide_type": "-"
    }
   },
   "outputs": [],
   "source": [
    "def fibonacci_sequence(*args):\n",
    "    '''Return a generator that generates Fibonacci numbers\n",
    "    starting from Fn and Fn1 to stop (exclusive). \n",
    "    generator.send(value) sets next number to value.\n",
    "    \n",
    "    fibonacci_sequence(stop)\n",
    "    fibonacci_sequence(Fn,Fn1)\n",
    "    fibonacci_sequence(Fn,Fn1,stop)\n",
    "    '''\n",
    "    Fn, Fn1, stop = 0, 1, None  # default values\n",
    "\n",
    "    # handle different number of arguments\n",
    "    if len(args) is 1:\n",
    "        # YOUR CODE HERE\n",
    "        raise NotImplementedError()\n",
    "    elif len(args) is 2:\n",
    "        Fn, Fn1 = args[0], args[1]\n",
    "    elif len(args) > 2:\n",
    "        Fn, Fn1, stop = args[0], args[1], args[2]\n",
    "    \n",
    "    while stop is None or Fn < stop:\n",
    "        value = yield Fn\n",
    "        if value is not None: \n",
    "            Fn1 = value  # set next number to the value of yield expression\n",
    "        Fn, Fn1 = Fn1, Fn1 + Fn"
   ]
  },
  {
   "cell_type": "code",
   "execution_count": null,
   "metadata": {
    "ExecuteTime": {
     "end_time": "2020-10-15T15:11:14.649508Z",
     "start_time": "2020-10-15T15:11:14.643243Z"
    },
    "slideshow": {
     "slide_type": "fragment"
    }
   },
   "outputs": [],
   "source": [
    "for fib in fibonacci_sequence(5): # default Fn=0, Fn=1\n",
    "    print(fib)"
   ]
  },
  {
   "cell_type": "code",
   "execution_count": null,
   "metadata": {
    "ExecuteTime": {
     "end_time": "2020-10-15T15:11:17.428327Z",
     "start_time": "2020-10-15T15:11:17.424935Z"
    },
    "slideshow": {
     "slide_type": "fragment"
    }
   },
   "outputs": [],
   "source": [
    "for fib in fibonacci_sequence(1, 2): # default stop=None\n",
    "    print(fib)  \n",
    "    if fib>5:\n",
    "        break"
   ]
  },
  {
   "cell_type": "code",
   "execution_count": null,
   "metadata": {
    "ExecuteTime": {
     "end_time": "2020-10-15T15:11:32.815667Z",
     "start_time": "2020-10-15T15:11:32.809755Z"
    },
    "slideshow": {
     "slide_type": "fragment"
    }
   },
   "outputs": [],
   "source": [
    "args = (1, 2, 5)\n",
    "for fib in fibonacci_sequence(*args): # default stop=None\n",
    "    print(fib) "
   ]
  },
  {
   "cell_type": "markdown",
   "metadata": {
    "slideshow": {
     "slide_type": "slide"
    }
   },
   "source": [
    "## Decorator"
   ]
  },
  {
   "cell_type": "markdown",
   "metadata": {
    "slideshow": {
     "slide_type": "subslide"
    }
   },
   "source": [
    "**What is function decoration?**  \n",
    "**Why decorate a function?**"
   ]
  },
  {
   "cell_type": "code",
   "execution_count": null,
   "metadata": {
    "ExecuteTime": {
     "end_time": "2020-10-15T15:25:04.293953Z",
     "start_time": "2020-10-15T15:25:04.276036Z"
    },
    "jupyter": {
     "outputs_hidden": true
    },
    "slideshow": {
     "slide_type": "-"
    }
   },
   "outputs": [],
   "source": [
    "def fibonacci(n):\n",
    "    '''Returns the Fibonacci number of order n.'''\n",
    "    global count, depth\n",
    "    count += 1\n",
    "    depth += 1\n",
    "    print('{:>3}: {}fibonacci({!r})'.format(count, '|' * depth, n))\n",
    "    \n",
    "    value = fibonacci(n - 1) + fibonacci(n - 2) if n > 1 else 1 if n is 1 else 0\n",
    "    \n",
    "    depth -= 1\n",
    "    if depth is -1:  # recursion done\n",
    "        print('Done')\n",
    "        count = 0  # reset count for subsequent recursions\n",
    "    return value\n",
    "\n",
    "\n",
    "count, depth = 0, -1\n",
    "for n in range(6):\n",
    "    print(fibonacci(n))"
   ]
  },
  {
   "cell_type": "markdown",
   "metadata": {
    "slideshow": {
     "slide_type": "fragment"
    }
   },
   "source": [
    "The code decorates the `fibonacci` function by printing each recursive call and the depth of the call stack.  \n",
    "The decoration is useful in showing the efficiency of the function, but it rewrites the function definition."
   ]
  },
  {
   "cell_type": "markdown",
   "metadata": {
    "slideshow": {
     "slide_type": "subslide"
    }
   },
   "source": [
    "**How to decorate a function without changing its code?**"
   ]
  },
  {
   "cell_type": "markdown",
   "metadata": {
    "slideshow": {
     "slide_type": "fragment"
    }
   },
   "source": [
    "- What if the decorations are temporary and should be removed later?  \n",
    "- Go through the source codes of all decorated functions to remove the decorations?  \n",
    "- When updating a piece of code, switch back and forth between original and decorated codes?"
   ]
  },
  {
   "cell_type": "markdown",
   "metadata": {
    "slideshow": {
     "slide_type": "subslide"
    }
   },
   "source": [
    "What about defining a new function that calls and decorates the original function?"
   ]
  },
  {
   "cell_type": "code",
   "execution_count": null,
   "metadata": {
    "ExecuteTime": {
     "end_time": "2020-10-15T15:34:23.474163Z",
     "start_time": "2020-10-15T15:34:23.438904Z"
    },
    "code_folding": [
     0
    ],
    "slideshow": {
     "slide_type": "fragment"
    }
   },
   "outputs": [],
   "source": [
    "def fibonacci(n):\n",
    "    '''Returns the Fibonacci number of order n.'''\n",
    "    return fibonacci(n - 1) + fibonacci(n - 2) if n > 1 else 1 if n is 1 else 0\n",
    "\n",
    "def fibonacci_decorated(n):\n",
    "    '''Returns the Fibonacci number of order n.'''\n",
    "    global count, depth\n",
    "    count += 1\n",
    "    depth += 1\n",
    "    print('{:>3}: {}fibonacci({!r})'.format(count, '|' * depth, n))\n",
    "    \n",
    "    value = fibonacci(n)\n",
    "    \n",
    "    depth -= 1\n",
    "    if depth is -1:  # recursion done\n",
    "        print('Done')\n",
    "        count = 0  # reset count for subsequent recursions\n",
    "    return value\n",
    "\n",
    "\n",
    "count, depth = 0, -1\n",
    "for n in range(6):\n",
    "    print(fibonacci_decorated(n))    "
   ]
  },
  {
   "cell_type": "markdown",
   "metadata": {
    "slideshow": {
     "slide_type": "fragment"
    }
   },
   "source": [
    "We want `fibonacci` to call `fibonacci_decorated` instead.  \n",
    "What about renaming `fibonacci_decorated` to `fibonacci`?\n",
    "\n",
    "```Python\n",
    "fibonacci = fibonacci_decorated\n",
    "count, depth = 0, -1\n",
    "fibonacci_decorated(10)\n",
    "```\n",
    "\n",
    "(If you are faint-hearted, don't run the above code.)"
   ]
  },
  {
   "cell_type": "markdown",
   "metadata": {
    "slideshow": {
     "slide_type": "fragment"
    }
   },
   "source": [
    "We want `fibonacci_decorated` to call the original `fibonacci`."
   ]
  },
  {
   "cell_type": "markdown",
   "metadata": {
    "slideshow": {
     "slide_type": "subslide"
    }
   },
   "source": [
    "The solution is to capture the original `fibonacci` in a closure:"
   ]
  },
  {
   "cell_type": "code",
   "execution_count": null,
   "metadata": {
    "ExecuteTime": {
     "end_time": "2020-10-15T15:38:47.719586Z",
     "start_time": "2020-10-15T15:38:47.714501Z"
    },
    "code_folding": [],
    "jupyter": {
     "outputs_hidden": true
    },
    "slideshow": {
     "slide_type": "fragment"
    }
   },
   "outputs": [],
   "source": [
    "import functools\n",
    "\n",
    "\n",
    "def print_function_call(f):\n",
    "    '''Return a decorator that prints function calls.'''\n",
    "    @functools.wraps(f)  # give wrapper the identity of f and more\n",
    "    def wrapper(*args, **kwargs):\n",
    "        nonlocal count, depth\n",
    "        count += 1\n",
    "        depth += 1\n",
    "        call = '{}{}'.format(f.__name__, argument_string(*args, **kwargs))\n",
    "        print('{:>3}:{}{}'.format(count, '|' * depth, call))\n",
    "\n",
    "        value = f(*args, **kwargs)  # wrapper calls f\n",
    "\n",
    "        depth -= 1\n",
    "        if depth is -1:\n",
    "            print('Done')\n",
    "            count = 0\n",
    "        return value\n",
    "\n",
    "    count, depth = 0, -1\n",
    "    return wrapper  # return the decorated function"
   ]
  },
  {
   "cell_type": "markdown",
   "metadata": {
    "slideshow": {
     "slide_type": "fragment"
    }
   },
   "source": [
    "`print_function_call` takes in `f` and returns `wrapper`, which captures and decorates `f`:\n",
    "- `wrapper` expects the same set of arguments for `f`,  \n",
    "- returns the same value returned by `f` on the arguments, but\n",
    "- can execute additional codes before and after calling `f` to print the function call."
   ]
  },
  {
   "cell_type": "markdown",
   "metadata": {
    "slideshow": {
     "slide_type": "fragment"
    }
   },
   "source": [
    "By redefining `fibonacci` as the returned `wrapper`, the original `fibonacci` captured by `wrapper` calls `wrapper` as desired."
   ]
  },
  {
   "cell_type": "code",
   "execution_count": null,
   "metadata": {
    "ExecuteTime": {
     "end_time": "2020-10-15T15:38:53.269822Z",
     "start_time": "2020-10-15T15:38:53.256996Z"
    },
    "code_folding": [
     0
    ]
   },
   "outputs": [],
   "source": [
    "def fibonacci(n):\n",
    "    return fibonacci(n - 1) + fibonacci(n - 2) if n > 1 else 1 if n is 1 else 0\n",
    "\n",
    "\n",
    "fibonacci = print_function_call(\n",
    "    fibonacci)  # so original fibonnacci calls wrapper\n",
    "fibonacci(5)"
   ]
  },
  {
   "cell_type": "markdown",
   "metadata": {
    "slideshow": {
     "slide_type": "fragment"
    }
   },
   "source": [
    "The redefinition does not change the original `fibonacci` captured by `wrapper`."
   ]
  },
  {
   "cell_type": "code",
   "execution_count": null,
   "metadata": {
    "ExecuteTime": {
     "end_time": "2020-10-15T15:39:04.986429Z",
     "start_time": "2020-10-15T15:39:04.978572Z"
    },
    "slideshow": {
     "slide_type": "fragment"
    }
   },
   "outputs": [],
   "source": [
    "import inspect\n",
    "for cell in fibonacci.__closure__:\n",
    "    if callable(cell.cell_contents):\n",
    "        print(inspect.getsource(cell.cell_contents))"
   ]
  },
  {
   "cell_type": "markdown",
   "metadata": {
    "slideshow": {
     "slide_type": "subslide"
    }
   },
   "source": [
    "Python provides the syntatic sugar below to simplify the redefinition."
   ]
  },
  {
   "cell_type": "code",
   "execution_count": null,
   "metadata": {
    "ExecuteTime": {
     "end_time": "2020-10-15T15:39:38.186712Z",
     "start_time": "2020-10-15T15:39:38.176510Z"
    },
    "code_folding": [
     1
    ],
    "jupyter": {
     "outputs_hidden": true
    },
    "slideshow": {
     "slide_type": "-"
    }
   },
   "outputs": [],
   "source": [
    "@print_function_call\n",
    "def fibonacci(n):\n",
    "    return fibonacci(n - 1) + fibonacci(n - 2) if n > 1 else 1 if n is 1 else 0\n",
    "\n",
    "\n",
    "fibonacci(5)"
   ]
  },
  {
   "cell_type": "markdown",
   "metadata": {
    "slideshow": {
     "slide_type": "subslide"
    }
   },
   "source": [
    "There are many techniques used in the above decorator."
   ]
  },
  {
   "cell_type": "markdown",
   "metadata": {
    "slideshow": {
     "slide_type": "fragment"
    }
   },
   "source": [
    "**Why use a variable number of arguments in `wrapper`**"
   ]
  },
  {
   "cell_type": "markdown",
   "metadata": {
    "slideshow": {
     "slide_type": "fragment"
    }
   },
   "source": [
    "To decorate any function with possibly different number of arguments."
   ]
  },
  {
   "cell_type": "markdown",
   "metadata": {
    "slideshow": {
     "slide_type": "subslide"
    }
   },
   "source": [
    "**Why decorate the wrapper with `@functools.wraps(f)`?**"
   ]
  },
  {
   "cell_type": "markdown",
   "metadata": {
    "slideshow": {
     "slide_type": "fragment"
    }
   },
   "source": [
    "- Ensures some attributes (such as `__name__`) of the wrapper function is the same as those of `f`.\n",
    "- Add useful attributes. E.g., `__wrapped__` stores the original function so we can undo the decoration.\n"
   ]
  },
  {
   "cell_type": "code",
   "execution_count": null,
   "metadata": {
    "ExecuteTime": {
     "end_time": "2020-10-15T15:40:08.153771Z",
     "start_time": "2020-10-15T15:40:08.145403Z"
    },
    "slideshow": {
     "slide_type": "fragment"
    }
   },
   "outputs": [],
   "source": [
    "fibonacci, fibonacci_decorated = fibonacci.__wrapped__, fibonacci  # recover\n",
    "print('original fibonacci:')\n",
    "print(fibonacci(5))\n",
    "\n",
    "fibonacci = fibonacci_decorated  # decorate\n",
    "print('decorated fibonacci:')\n",
    "print(fibonacci(5))"
   ]
  },
  {
   "cell_type": "markdown",
   "metadata": {
    "slideshow": {
     "slide_type": "subslide"
    }
   },
   "source": [
    "**How to use decorator to improve recursion?**"
   ]
  },
  {
   "cell_type": "markdown",
   "metadata": {
    "slideshow": {
     "slide_type": "fragment"
    }
   },
   "source": [
    "We can also use a decorator to make recursion more efficient by caching the return values.  \n",
    "`cache` is a dictionary where `cache[n]` stores the computed value of $F_n$ to avoid redundant computations."
   ]
  },
  {
   "cell_type": "code",
   "execution_count": null,
   "metadata": {
    "ExecuteTime": {
     "end_time": "2020-10-15T15:40:38.189026Z",
     "start_time": "2020-10-15T15:40:38.183841Z"
    },
    "jupyter": {
     "outputs_hidden": true
    },
    "slideshow": {
     "slide_type": "fragment"
    }
   },
   "outputs": [],
   "source": [
    "def caching(f):\n",
    "    '''Return a decorator that caches a function with a single argument.'''\n",
    "    @functools.wraps(f)\n",
    "    def wrapper(n):\n",
    "        if n not in cache:\n",
    "            cache[n] = f(n)\n",
    "        else:\n",
    "            print('read from cache')\n",
    "        return cache[n]\n",
    "\n",
    "    cache = {}\n",
    "    wrapper.clear_cache = lambda : cache.clear()  # add method to clear cache\n",
    "    return wrapper\n",
    "\n",
    "\n",
    "@print_function_call\n",
    "@caching\n",
    "def fibonacci(n):\n",
    "    return fibonacci(n - 1) + fibonacci(n - 2) if n > 1 else 1 if n is 1 else 0"
   ]
  },
  {
   "cell_type": "code",
   "execution_count": null,
   "metadata": {
    "ExecuteTime": {
     "end_time": "2020-10-15T15:40:41.767993Z",
     "start_time": "2020-10-15T15:40:41.757939Z"
    },
    "jupyter": {
     "outputs_hidden": true
    },
    "slideshow": {
     "slide_type": "fragment"
    }
   },
   "outputs": [],
   "source": [
    "fibonacci(5)\n",
    "fibonacci(5)\n",
    "fibonacci.clear_cache()\n",
    "fibonacci(5)"
   ]
  },
  {
   "cell_type": "markdown",
   "metadata": {
    "slideshow": {
     "slide_type": "fragment"
    }
   },
   "source": [
    "A method `clear_cache` is added to the wrapper to clear the cache.   \n",
    "`lambda <argument list> : <expression>`is called a [*lambda* expression](https://docs.python.org/3/reference/expressions.html#lambda), which conveniently defines an *anonymous function*."
   ]
  },
  {
   "cell_type": "code",
   "execution_count": null,
   "metadata": {
    "ExecuteTime": {
     "end_time": "2020-09-24T04:21:44.249956Z",
     "start_time": "2020-09-24T04:21:44.241288Z"
    },
    "slideshow": {
     "slide_type": "fragment"
    }
   },
   "outputs": [],
   "source": [
    "type(fibonacci.clear_cache), fibonacci.clear_cache.__name__"
   ]
  },
  {
   "cell_type": "markdown",
   "metadata": {
    "slideshow": {
     "slide_type": "slide"
    }
   },
   "source": [
    "## Module"
   ]
  },
  {
   "cell_type": "markdown",
   "metadata": {
    "slideshow": {
     "slide_type": "subslide"
    }
   },
   "source": [
    "**How to create a module?**"
   ]
  },
  {
   "cell_type": "markdown",
   "metadata": {
    "slideshow": {
     "slide_type": "fragment"
    }
   },
   "source": [
    "To create a module, simply put the code in a python source file `<module name>.py` in\n",
    "- the current directory, or\n",
    "- a python *site-packages* directory in system path."
   ]
  },
  {
   "cell_type": "code",
   "execution_count": null,
   "metadata": {
    "ExecuteTime": {
     "end_time": "2020-10-15T15:42:13.910153Z",
     "start_time": "2020-10-15T15:42:13.906660Z"
    },
    "slideshow": {
     "slide_type": "-"
    }
   },
   "outputs": [],
   "source": [
    "import sys\n",
    "print(sys.path)"
   ]
  },
  {
   "cell_type": "markdown",
   "metadata": {
    "slideshow": {
     "slide_type": "subslide"
    }
   },
   "source": [
    "For example, to create a module for generating Fibonacci numbers:"
   ]
  },
  {
   "cell_type": "code",
   "execution_count": null,
   "metadata": {
    "ExecuteTime": {
     "end_time": "2020-10-15T15:43:28.258863Z",
     "start_time": "2020-10-15T15:43:28.252524Z"
    },
    "slideshow": {
     "slide_type": "-"
    }
   },
   "outputs": [],
   "source": [
    "%more fibonacci.py"
   ]
  },
  {
   "cell_type": "code",
   "execution_count": null,
   "metadata": {
    "ExecuteTime": {
     "end_time": "2020-10-15T15:43:35.125920Z",
     "start_time": "2020-10-15T15:43:35.118513Z"
    },
    "slideshow": {
     "slide_type": "-"
    }
   },
   "outputs": [],
   "source": [
    "import fibonacci as fib # as statement shortens name\n",
    "help(fib)"
   ]
  },
  {
   "cell_type": "code",
   "execution_count": null,
   "metadata": {
    "ExecuteTime": {
     "end_time": "2020-10-15T15:43:44.965803Z",
     "start_time": "2020-10-15T15:43:44.961216Z"
    },
    "slideshow": {
     "slide_type": "-"
    }
   },
   "outputs": [],
   "source": [
    "print(fib.fibonacci(5))\n",
    "print(fib.fibonacci_iteration(5))"
   ]
  }
 ],
 "metadata": {
  "kernelspec": {
   "display_name": "Python 3.7",
   "language": "python",
   "name": "python3"
  },
  "language_info": {
   "codemirror_mode": {
    "name": "ipython",
    "version": 3
   },
   "file_extension": ".py",
   "mimetype": "text/x-python",
   "name": "python",
   "nbconvert_exporter": "python",
   "pygments_lexer": "ipython3",
   "version": "3.7.6"
  },
  "latex_envs": {
   "LaTeX_envs_menu_present": true,
   "autoclose": false,
   "autocomplete": true,
   "bibliofile": "biblio.bib",
   "cite_by": "apalike",
   "current_citInitial": 1,
   "eqLabelWithNumbers": true,
   "eqNumInitial": 1,
   "hotkeys": {
    "equation": "Ctrl-E",
    "itemize": "Ctrl-I"
   },
   "labels_anchors": false,
   "latex_user_defs": false,
   "report_style_numbering": false,
   "user_envs_cfg": false
  },
  "rise": {
   "enable_chalkboard": true,
   "scroll": true,
   "theme": "white"
  },
  "toc": {
   "base_numbering": 1,
   "nav_menu": {
    "height": "195px",
    "width": "330px"
   },
   "number_sections": true,
   "sideBar": true,
   "skip_h1_title": true,
   "title_cell": "Table of Contents",
   "title_sidebar": "Contents",
   "toc_cell": false,
   "toc_position": {
    "height": "454.418px",
    "left": "1533px",
    "top": "110.284px",
    "width": "261px"
   },
   "toc_section_display": true,
   "toc_window_display": true
  }
 },
 "nbformat": 4,
 "nbformat_minor": 4
}
